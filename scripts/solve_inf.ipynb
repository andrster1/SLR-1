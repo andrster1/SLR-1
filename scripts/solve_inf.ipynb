{
 "nbformat": 4,
 "nbformat_minor": 2,
 "metadata": {
  "language_info": {
   "name": "python",
   "codemirror_mode": {
    "name": "ipython",
    "version": 3
   },
   "version": "3.7.6-final"
  },
  "orig_nbformat": 2,
  "file_extension": ".py",
  "mimetype": "text/x-python",
  "name": "python",
  "npconvert_exporter": "python",
  "pygments_lexer": "ipython3",
  "version": 3,
  "kernelspec": {
   "name": "python37664bit0ecf791bd83b4b4eb3b96ac531fee81e",
   "display_name": "Python 3.7.6 64-bit"
  }
 },
 "cells": [
  {
   "cell_type": "code",
   "execution_count": 2,
   "metadata": {},
   "outputs": [
    {
     "name": "stdout",
     "output_type": "stream",
     "text": "grad before clip:tensor([[120.]])\ngrad after clip:tensor([[1.1000]])\n"
    }
   ],
   "source": [
    "import torch\n",
    "import torch.nn as nn\n",
    "import torch.optim as optim\n",
    "class LinearNet(nn.Module):\n",
    "    def __init__(self, features_in=1, features_out=1):\n",
    "        super().__init__()\n",
    "        self.linear = nn.Linear(features_in, features_out)\n",
    "        self._init_weight()\n",
    "\n",
    "    def forward(self, x):\n",
    "        return self.linear(x)\n",
    "\n",
    "    def _init_weight(self):\n",
    "        nn.init.constant_(self.linear.weight, val=1)\n",
    "        nn.init.constant_(self.linear.bias, val=0)\n",
    "\n",
    "# 定义\n",
    "net = LinearNet()\n",
    "mse_fn = nn.L1Loss()\n",
    "optimizer = optim.SGD(net.parameters(), lr=0.1)\n",
    "# 网络输入和标签\n",
    "x = torch.FloatTensor([120])\n",
    "target_value = torch.FloatTensor([2])\n",
    "# loss计算\n",
    "predict = net(x)\n",
    "loss = mse_fn(predict, target_value)\n",
    "\n",
    "loss.backward()\n",
    "print(\"grad before clip:\"+str(net.linear.weight.grad))\n",
    "nn.utils.clip_grad_value_(net.linear.weight, clip_value=1.1)\n",
    "print(\"grad after clip:\"+str(net.linear.weight.grad))"
   ]
  },
  {
   "cell_type": "code",
   "execution_count": 2,
   "metadata": {},
   "outputs": [],
   "source": [
    "import torch\n",
    "x = torch.tensor([1,1,2])\n",
    "y = torch.div(x,0)\n",
    "y"
   ]
  },
  {
   "cell_type": "code",
   "execution_count": 1,
   "metadata": {},
   "outputs": [
    {
     "ename": "NameError",
     "evalue": "name 'torch' is not defined",
     "output_type": "error",
     "traceback": [
      "\u001b[0;31m---------------------------------------------------------------------------\u001b[0m",
      "\u001b[0;31mNameError\u001b[0m                                 Traceback (most recent call last)",
      "\u001b[0;32m<ipython-input-1-c122e552a29b>\u001b[0m in \u001b[0;36m<module>\u001b[0;34m\u001b[0m\n\u001b[0;32m----> 1\u001b[0;31m \u001b[0mtorch\u001b[0m\u001b[0;34m.\u001b[0m\u001b[0mnan\u001b[0m\u001b[0;34m\u001b[0m\u001b[0;34m\u001b[0m\u001b[0m\n\u001b[0m",
      "\u001b[0;31mNameError\u001b[0m: name 'torch' is not defined"
     ]
    }
   ],
   "source": [
    "torch.nan"
   ]
  }
 ]
}