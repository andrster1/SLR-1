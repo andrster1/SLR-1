{
 "nbformat": 4,
 "nbformat_minor": 2,
 "metadata": {
  "language_info": {
   "name": "python",
   "codemirror_mode": {
    "name": "ipython",
    "version": 3
   },
   "version": "3.7.6-final"
  },
  "orig_nbformat": 2,
  "file_extension": ".py",
  "mimetype": "text/x-python",
  "name": "python",
  "npconvert_exporter": "python",
  "pygments_lexer": "ipython3",
  "version": 3,
  "kernelspec": {
   "name": "python37664bit0ecf791bd83b4b4eb3b96ac531fee81e",
   "display_name": "Python 3.7.6 64-bit"
  }
 },
 "cells": [
  {
   "cell_type": "code",
   "execution_count": 11,
   "metadata": {},
   "outputs": [],
   "source": [
    "# Settings\n",
    "import os\n",
    "import json\n",
    "import numpy\n",
    "import matplotlib.pyplot as plt\n",
    "from mpl_toolkits.mplot3d import Axes3D  # 空间三维画图\n",
    "\n",
    "# Setting for phoenix\n",
    "# w = 210\n",
    "# h = 260\n",
    "# Setting for CSL\n",
    "w = 720\n",
    "h = 800\n",
    "num_joints = 137\n",
    "view_joints = [0,1,2,3,4,5,6,7,8,9,12,15,16,17,18]\n",
    "face_view_joints = numpy.arange(25,75)\n",
    "lefhand_view_joints = numpy.arange(75,96)\n",
    "righthand_view_joints = numpy.arange(96,137)\n",
    "view_joints = numpy.concatenate([view_joints,face_view_joints,lefhand_view_joints,righthand_view_joints],0)\n",
    "# [\n",
    "#     [4,3],\n",
    "#     [6,7]\n",
    "# ]\n",
    "line_pairs = numpy.array(\\\n",
    "[\n",
    "    [17,15],\n",
    "    [15,0],\n",
    "    [0,16],\n",
    "    [16,18],\n",
    "    [0,1],\n",
    "    [2,1],\n",
    "    [1,5],\n",
    "    [1,8],\n",
    "    [4,3],\n",
    "    [3,2],\n",
    "    [5,6],\n",
    "    [6,7],\n",
    "    [9,8],\n",
    "    [8,12]\n",
    "])\n",
    "hand_pairs = numpy.array(\\\n",
    "[\n",
    "    [0,1],\n",
    "    [1,2],\n",
    "    [2,3],\n",
    "    [3,4],\n",
    "    [0,5],\n",
    "    [5,6],\n",
    "    [6,7],\n",
    "    [7,8],\n",
    "    [0,9],\n",
    "    [9,10],\n",
    "    [10,11],\n",
    "    [11,12],\n",
    "    [0,13],\n",
    "    [13,14],\n",
    "    [14,15],\n",
    "    [15,16],\n",
    "    [0,17],\n",
    "    [17,18],\n",
    "    [18,19],\n",
    "    [19,20]\n",
    "])\n",
    "lefthand_pairs = hand_pairs + 95\n",
    "righthand_pairs = hand_pairs + 116\n",
    "line_pairs = numpy.concatenate([line_pairs,lefthand_pairs,righthand_pairs],0)\n",
    "# Colors\n",
    "lightred = [0.93,0.60,0.60]\n",
    "red = [0.83,0.18,0.18]\n",
    "orange = [1.0,0.5,0.2]\n",
    "blue = [0.0,0.66,0.88]\n",
    "pink = [0.92,0.38,0.57]\n",
    "purple = [0.70,0.53,1.0]\n",
    "yellow = [1.0,0.93,0.35]\n",
    "\n",
    "def read_json(file):\n",
    "    skeletonDict = json.load(open(file,'r'))\n",
    "    bodySkeleton = numpy.array(skeletonDict['Body']).squeeze()\n",
    "    faceSkeleton = numpy.array(skeletonDict['Face']).squeeze()\n",
    "    leftHandSkeleton = numpy.array(skeletonDict['Left hand']).squeeze()\n",
    "    rightHandSkeleton = numpy.array(skeletonDict['Right hand']).squeeze()\n",
    "    skeleton = numpy.concatenate([bodySkeleton, faceSkeleton, leftHandSkeleton, rightHandSkeleton],-2)\n",
    "    if len(skeleton.shape)>2:\n",
    "        skeleton = skeleton[0]\n",
    "    return skeleton[:,:2]\n",
    "\n",
    "def get_pairs(skeleton, line_pairs):\n",
    "    pairs = []\n",
    "    for pair in line_pairs:\n",
    "        i = pair[0]\n",
    "        j = pair[1]\n",
    "        if (skeleton[i]==0).all() or (skeleton[j]==0).all():\n",
    "            print(pair)\n",
    "        else:\n",
    "            pairs.append(pair)\n",
    "    return numpy.array(pairs)\n",
    "\n",
    "def get_colors():\n",
    "    # Paint diffenrent color\n",
    "    colors = []\n",
    "    for i in range(num_joints):\n",
    "        if i in [0,15,16,17,18]:\n",
    "            color = red\n",
    "        elif i in [1,8,9,12]:\n",
    "            color = orange\n",
    "        elif i in [2,3,4]:\n",
    "            color = blue\n",
    "        elif i in [5,6,7]:\n",
    "            color = pink\n",
    "        elif 25<=i and i<=94:\n",
    "            color = lightred\n",
    "        elif 95<=i and i<=115:\n",
    "            color = purple\n",
    "        elif 116<=i and i<=136:\n",
    "            color = yellow\n",
    "        colors.append(color)\n",
    "    return numpy.array(colors)\n"
   ]
  },
  {
   "cell_type": "code",
   "execution_count": null,
   "metadata": {},
   "outputs": [],
   "source": [
    "# generate from json file\n",
    "skeleton_folder = '/Users/liweijie/SLR/scripts/01April_2010_Thursday_heute_default-0'\n",
    "file_list = os.listdir(skeleton_folder)\n",
    "file_list.sort()\n",
    "mat = []\n",
    "point_indices = []\n",
    "line_indices = []\n",
    "for i,file in enumerate(file_list[::20]):\n",
    "    file_path = os.path.join(skeleton_folder,file)\n",
    "    skeleton = read_json(file_path)\n",
    "    skeleton = (skeleton-numpy.array([w/2,h/2]))*2/numpy.array([w,h])\n",
    "    t = 20*10*(i/len(file_list))*numpy.ones([skeleton.shape[0],1])\n",
    "    colors = get_colors()\n",
    "    skeleton_t = numpy.concatenate([skeleton,t,colors],1)\n",
    "    point_indices_t = i*num_joints+numpy.array(view_joints)\n",
    "    line_indices_t = i*num_joints+get_pairs(skeleton,line_pairs)\n",
    "    # Append\n",
    "    mat.append(skeleton_t)\n",
    "    point_indices.append(point_indices_t)\n",
    "    line_indices.append(line_indices_t)\n",
    "mat = numpy.stack(mat,0)\n",
    "point_indices = numpy.stack(point_indices,0)\n",
    "line_indices = numpy.stack(line_indices,0)\n",
    "\n",
    "# Save as byte data\n",
    "mat.astype(numpy.float32).tofile('/Users/liweijie/projects/visualize-skeleton/skeleton.data')\n",
    "point_indices.astype(numpy.uint32).tofile('/Users/liweijie/projects/visualize-skeleton/point_indices.data')\n",
    "line_indices.astype(numpy.uint32).tofile('/Users/liweijie/projects/visualize-skeleton/line_indices.data')"
   ]
  },
  {
   "cell_type": "code",
   "execution_count": 12,
   "metadata": {},
   "outputs": [],
   "source": [
    "import numpy\n",
    "# generate from npy\n",
    "npy_file = 'vae_generate/input_000000.npy'\n",
    "# Shape of data is N x L(32) x J x D\n",
    "data = numpy.load(npy_file)\n",
    "data = data[0]\n",
    "mat = []\n",
    "point_indices = []\n",
    "line_indices = []\n",
    "for i,skeleton in enumerate(data):\n",
    "    skeleton = (skeleton-numpy.array([w/2,h/2]))*2/numpy.array([w,h])\n",
    "    t = 2*10*(i/len(data))*numpy.ones([skeleton.shape[0],1])\n",
    "    colors = get_colors()\n",
    "    skeleton_t = numpy.concatenate([skeleton,t,colors],1)\n",
    "    point_indices_t = i*num_joints+numpy.array(view_joints)\n",
    "    line_indices_t = i*num_joints+line_pairs\n",
    "    # Append\n",
    "    mat.append(skeleton_t)\n",
    "    point_indices.append(point_indices_t)\n",
    "    line_indices.append(line_indices_t)\n",
    "mat = numpy.stack(mat,0)\n",
    "point_indices = numpy.stack(point_indices,0)\n",
    "line_indices = numpy.stack(line_indices,0)\n",
    "\n",
    "# Save as byte data\n",
    "mat.astype(numpy.float32).tofile('/Users/liweijie/projects/visualize-skeleton/skeleton.data')\n",
    "point_indices.astype(numpy.uint32).tofile('/Users/liweijie/projects/visualize-skeleton/point_indices.data')\n",
    "line_indices.astype(numpy.uint32).tofile('/Users/liweijie/projects/visualize-skeleton/line_indices.data')"
   ]
  },
  {
   "cell_type": "code",
   "execution_count": 7,
   "metadata": {},
   "outputs": [
    {
     "data": {
      "text/plain": "(array([[[[-0.1375846 , -0.87978685],\n          [-0.04289101, -0.48167276],\n          [-0.6690446 , -0.48186815],\n          ...,\n          [-0.9376585 ,  0.85922056],\n          [-0.8753171 ,  0.8927394 ],\n          [-0.83695334,  0.9284929 ]],\n \n         [[-0.12437606, -0.8700666 ],\n          [-0.03033898, -0.4651626 ],\n          [-0.6516105 , -0.4735656 ],\n          ...,\n          [-0.93342847,  0.8686937 ],\n          [-0.87636733,  0.8954    ],\n          [-0.8288164 ,  0.93323386]],\n \n         [[-0.10049409, -0.8849742 ],\n          [-0.00162787, -0.45705038],\n          [-0.5469804 , -0.45728612],\n          ...,\n          [-0.95375884,  0.84396076],\n          [-0.9383447 ,  0.89190364],\n          [-0.8921035 ,  0.9169172 ]],\n \n         ...,\n \n         [[-0.14238986, -0.8692104 ],\n          [-0.06559936, -0.46556264],\n          [-0.69719297, -0.46544826],\n          ...,\n          [-0.9322247 ,  0.8662981 ],\n          [-0.8734865 ,  0.89600956],\n          [-0.8554127 ,  0.9172321 ]],\n \n         [[-0.12550816, -0.87960994],\n          [-0.0683727 , -0.48704928],\n          [-0.69261336, -0.486979  ],\n          ...,\n          [-0.9030675 ,  0.852252  ],\n          [-0.87222564,  0.88138545],\n          [-0.85460186,  0.91468084]],\n \n         [[-0.12309872, -0.881935  ],\n          [-0.06552725, -0.48886678],\n          [-0.692006  , -0.48891342],\n          ...,\n          [-0.9236249 ,  0.8538638 ],\n          [-0.88768387,  0.87080693],\n          [-0.87869847,  0.90257597]]],\n \n \n        [[[ 0.03536661, -0.9183457 ],\n          [ 0.01390245, -0.5554101 ],\n          [-0.7405172 , -0.55588543],\n          ...,\n          [-0.941055  ,  0.46217182],\n          [-0.8957128 ,  0.4900336 ],\n          [-0.85037047,  0.5022231 ]],\n \n         [[ 0.02157523, -0.9197988 ],\n          [ 0.01960871, -0.5565884 ],\n          [-0.7062218 , -0.5571088 ],\n          ...,\n          [-0.93703127,  0.45770305],\n          [-0.8782609 ,  0.47279492],\n          [-0.8530735 ,  0.49124074]],\n \n         [[-0.05226418, -0.9051266 ],\n          [-0.06592619, -0.5578121 ],\n          [-0.5389291 , -0.5657025 ],\n          ...,\n          [-1.        ,  0.4044131 ],\n          [-0.99143904,  0.42485648],\n          [-0.9800243 ,  0.4435962 ]],\n \n         ...,\n \n         [[ 0.11125243, -0.9296617 ],\n          [ 0.02297218, -0.577831  ],\n          [-0.71224725, -0.58604795],\n          ...,\n          [-1.        ,  0.4251266 ],\n          [-0.9804214 ,  0.44493493],\n          [-0.9853166 ,  0.45393884]],\n \n         [[ 0.10553502, -0.95067394],\n          [ 0.01890648, -0.58869874],\n          [-0.72359747, -0.59689325],\n          ...,\n          [-1.        ,  0.4144756 ],\n          [-0.9951866 ,  0.43444955],\n          [-0.975931  ,  0.44171283]],\n \n         [[ 0.09441388, -0.7967247 ],\n          [ 0.00663915, -0.46918112],\n          [-0.74587524, -0.4766801 ],\n          ...,\n          [-1.        ,  0.46477407],\n          [-0.99007785,  0.48186246],\n          [-0.98511684,  0.5006596 ]]]], dtype=float32),\n array([[[[0.08726686, 0.        ],\n          [0.01590386, 0.        ],\n          [0.        , 0.        ],\n          ...,\n          [0.        , 0.6444672 ],\n          [0.        , 0.6758139 ],\n          [0.        , 0.687734  ]],\n \n         [[0.0736244 , 0.        ],\n          [0.        , 0.        ],\n          [0.        , 0.        ],\n          ...,\n          [0.        , 0.67992616],\n          [0.        , 0.6995307 ],\n          [0.        , 0.7187362 ]],\n \n         [[0.08144665, 0.        ],\n          [0.        , 0.        ],\n          [0.        , 0.        ],\n          ...,\n          [0.        , 0.66840434],\n          [0.        , 0.69154656],\n          [0.        , 0.71230364]],\n \n         ...,\n \n         [[0.07630423, 0.        ],\n          [0.        , 0.        ],\n          [0.        , 0.        ],\n          ...,\n          [0.        , 0.66554505],\n          [0.        , 0.68935466],\n          [0.        , 0.6988301 ]],\n \n         [[0.06649119, 0.        ],\n          [0.        , 0.        ],\n          [0.        , 0.        ],\n          ...,\n          [0.        , 0.68338865],\n          [0.        , 0.6970633 ],\n          [0.        , 0.7185642 ]],\n \n         [[0.07896268, 0.        ],\n          [0.        , 0.        ],\n          [0.        , 0.        ],\n          ...,\n          [0.        , 0.6562878 ],\n          [0.        , 0.67217803],\n          [0.        , 0.6917391 ]]],\n \n \n        [[[0.07937071, 0.        ],\n          [0.01590928, 0.        ],\n          [0.        , 0.        ],\n          ...,\n          [0.        , 0.52640224],\n          [0.        , 0.56028104],\n          [0.        , 0.56984174]],\n \n         [[0.0667724 , 0.        ],\n          [0.        , 0.        ],\n          [0.        , 0.        ],\n          ...,\n          [0.        , 0.5388833 ],\n          [0.        , 0.56659555],\n          [0.        , 0.57856965]],\n \n         [[0.08135423, 0.        ],\n          [0.        , 0.        ],\n          [0.        , 0.        ],\n          ...,\n          [0.        , 0.5359906 ],\n          [0.        , 0.5538529 ],\n          [0.        , 0.5698226 ]],\n \n         ...,\n \n         [[0.07400268, 0.        ],\n          [0.        , 0.        ],\n          [0.        , 0.        ],\n          ...,\n          [0.        , 0.53967816],\n          [0.        , 0.5600953 ],\n          [0.        , 0.57144   ]],\n \n         [[0.07124913, 0.        ],\n          [0.        , 0.        ],\n          [0.        , 0.        ],\n          ...,\n          [0.        , 0.5469324 ],\n          [0.        , 0.5656407 ],\n          [0.        , 0.58064353]],\n \n         [[0.08742902, 0.        ],\n          [0.        , 0.        ],\n          [0.        , 0.        ],\n          ...,\n          [0.        , 0.541361  ],\n          [0.        , 0.55587596],\n          [0.        , 0.573619  ]]]], dtype=float32))"
     },
     "execution_count": 7,
     "metadata": {},
     "output_type": "execute_result"
    }
   ],
   "source": [
    "data1 = numpy.load('vae_generate/input_000000.npy')\n",
    "data2 = numpy.load('vae_generate/recons_000000.npy')\n",
    "data1,data2"
   ]
  },
  {
   "cell_type": "code",
   "execution_count": 10,
   "metadata": {},
   "outputs": [
    {
     "data": {
      "text/plain": "((9, 137, 6), (9, 127), (9, 54, 2))"
     },
     "execution_count": 10,
     "metadata": {},
     "output_type": "execute_result"
    }
   ],
   "source": [
    "mat.shape,point_indices.shape,line_indices.shape"
   ]
  },
  {
   "cell_type": "code",
   "execution_count": 7,
   "metadata": {},
   "outputs": [
    {
     "data": {
      "text/plain": "(array([  0,   1,   2,   3,   4,   5,   6,   7,   8,   9,  12,  15,  16,\n         17,  18,  25,  26,  27,  28,  29,  30,  31,  32,  33,  34,  35,\n         36,  37,  38,  39,  40,  41,  42,  43,  44,  45,  46,  47,  48,\n         49,  50,  51,  52,  53,  54,  55,  56,  57,  58,  59,  60,  61,\n         62,  63,  64,  65,  66,  67,  68,  69,  70,  71,  72,  73,  74,\n         75,  76,  77,  78,  79,  80,  81,  82,  83,  84,  85,  86,  87,\n         88,  89,  90,  91,  92,  93,  94,  95,  96,  97,  98,  99, 100,\n        101, 102, 103, 104, 105, 106, 107, 108, 109, 110, 111, 112, 113,\n        114, 115, 116, 117, 118, 119, 120, 121, 122, 123, 124, 125, 126,\n        127, 128, 129, 130, 131, 132, 133, 134, 135, 136]),\n array([[ 17,  15],\n        [ 15,   0],\n        [  0,  16],\n        [ 16,  18],\n        [  0,   1],\n        [  2,   1],\n        [  1,   5],\n        [  1,   8],\n        [  4,   3],\n        [  3,   2],\n        [  5,   6],\n        [  6,   7],\n        [  9,   8],\n        [  8,  12],\n        [ 95,  96],\n        [ 96,  97],\n        [ 97,  98],\n        [ 98,  99],\n        [ 95, 100],\n        [100, 101],\n        [101, 102],\n        [102, 103],\n        [ 95, 104],\n        [104, 105],\n        [105, 106],\n        [106, 107],\n        [ 95, 108],\n        [108, 109],\n        [109, 110],\n        [110, 111],\n        [ 95, 112],\n        [112, 113],\n        [113, 114],\n        [114, 115],\n        [116, 117],\n        [117, 118],\n        [118, 119],\n        [119, 120],\n        [116, 121],\n        [121, 122],\n        [122, 123],\n        [123, 124],\n        [116, 125],\n        [125, 126],\n        [126, 127],\n        [127, 128],\n        [116, 129],\n        [129, 130],\n        [130, 131],\n        [131, 132],\n        [116, 133],\n        [133, 134],\n        [134, 135],\n        [135, 136]]))"
     },
     "execution_count": 7,
     "metadata": {},
     "output_type": "execute_result"
    }
   ],
   "source": [
    "point_indices[0],line_indices[0]"
   ]
  },
  {
   "cell_type": "code",
   "execution_count": 3,
   "metadata": {},
   "outputs": [],
   "source": [
    "import matplotlib.pyplot as plt\n",
    "def plot_skeleton(skeleton):\n",
    "    mat = skeleton\n",
    "    bodySkeleton = skeleton[0:25]\n",
    "    faceSkeleton = skeleton[25:95]\n",
    "    leftHandSkeleton = skeleton[95:116]\n",
    "    rightHandSkeleton = skeleton[116:137]\n",
    "    plt.scatter(bodySkeleton[:,0],-bodySkeleton[:,1])\n",
    "    plt.scatter(mat[[3,4,6,7],0],-mat[[3,4,6,7],1])\n",
    "    plt.scatter(faceSkeleton[:,0],-faceSkeleton[:,1])\n",
    "    plt.scatter(leftHandSkeleton[:,0],-leftHandSkeleton[:,1])\n",
    "    plt.scatter(rightHandSkeleton[:,0],-rightHandSkeleton[:,1])\n",
    "\n",
    "    plt.show()"
   ]
  },
  {
   "cell_type": "code",
   "execution_count": null,
   "metadata": {},
   "outputs": [],
   "source": []
  }
 ]
}