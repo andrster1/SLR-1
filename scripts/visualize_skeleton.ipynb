{
 "nbformat": 4,
 "nbformat_minor": 2,
 "metadata": {
  "language_info": {
   "name": "python",
   "codemirror_mode": {
    "name": "ipython",
    "version": 3
   },
   "version": "3.7.6-final"
  },
  "orig_nbformat": 2,
  "file_extension": ".py",
  "mimetype": "text/x-python",
  "name": "python",
  "npconvert_exporter": "python",
  "pygments_lexer": "ipython3",
  "version": 3,
  "kernelspec": {
   "name": "python37664bit0ecf791bd83b4b4eb3b96ac531fee81e",
   "display_name": "Python 3.7.6 64-bit"
  }
 },
 "cells": [
  {
   "cell_type": "code",
   "execution_count": 32,
   "metadata": {},
   "outputs": [],
   "source": [
    "import os\n",
    "import json\n",
    "import numpy\n",
    "import matplotlib.pyplot as plt\n",
    "from mpl_toolkits.mplot3d import Axes3D  # 空间三维画图\n",
    "\n",
    "w = 210\n",
    "h = 260\n",
    "num_joints = 25\n",
    "view_joints = [0,1,2,3,4,5,6,7,8,9,12,15,16,17,18]\n",
    "# [\n",
    "#     [4,3],\n",
    "#     [6,7]\n",
    "# ]\n",
    "line_pairs = \\\n",
    "[\n",
    "    [17,15],\n",
    "    [15,0],\n",
    "    [0,16],\n",
    "    [16,18],\n",
    "    [0,1],\n",
    "    [2,1],\n",
    "    [1,5],\n",
    "    [1,8],\n",
    "    [4,3],\n",
    "    [3,2],\n",
    "    [5,6],\n",
    "    [6,7],\n",
    "    [9,8],\n",
    "    [8,12]\n",
    "]\n",
    "# Colors\n",
    "red = [0.83,0.18,0.18]\n",
    "orange = [1.0,0.5,0.2]\n",
    "blue = [0.0,0.66,0.88]\n",
    "pink = [0.92,0.38,0.57]\n",
    "\n",
    "def read_json(file):\n",
    "    skeletonDict = json.load(open(file,'r'))\n",
    "    bodySkeleton = numpy.array(skeletonDict['Body']).squeeze()\n",
    "    faceSkeleton = numpy.array(skeletonDict['Face']).squeeze()\n",
    "    leftHandSkeleton = numpy.array(skeletonDict['Left hand']).squeeze()\n",
    "    rigthHandSKeleton = numpy.array(skeletonDict['Right hand']).squeeze()\n",
    "    if len(bodySkeleton.shape)>2:\n",
    "        bodySkeleton = bodySkeleton[0]\n",
    "    return bodySkeleton[:,:2]\n",
    "\n",
    "def get_pairs(skeleton, line_pairs):\n",
    "    pairs = []\n",
    "    for pair in line_pairs:\n",
    "        i = pair[0]\n",
    "        j = pair[1]\n",
    "        if (skeleton[i]==0).all() or (skeleton[j]==0).all():\n",
    "            print(pair)\n",
    "        else:\n",
    "            pairs.append(pair)\n",
    "    return numpy.array(pairs)\n",
    "\n",
    "def get_colors():\n",
    "    # Paint diffenrent color\n",
    "    colors = []\n",
    "    for i in range(num_joints):\n",
    "        if i in [0,15,16,17,18]:\n",
    "            color = red\n",
    "        elif i in [1,8,9,12]:\n",
    "            color = orange\n",
    "        elif i in [2,3,4]:\n",
    "            color = blue\n",
    "        elif i in [5,6,7]:\n",
    "            color = pink\n",
    "        colors.append(color)\n",
    "    return numpy.array(colors)\n",
    "\n",
    "skeleton_folder = '/Users/liweijie/SLR/scripts/01April_2010_Thursday_heute_default-0'\n",
    "file_list = os.listdir(skeleton_folder)\n",
    "file_list.sort()\n",
    "mat = []\n",
    "point_indices = []\n",
    "line_indices = []\n",
    "for i,file in enumerate(file_list):\n",
    "    file_path = os.path.join(skeleton_folder,file)\n",
    "    skeleton = read_json(file_path)\n",
    "    skeleton = (skeleton-numpy.array([w/2,h/2]))*2/numpy.array([w,h])\n",
    "    t = 2*(i/len(file_list))*numpy.ones([skeleton.shape[0],1])\n",
    "    colors = get_colors()\n",
    "    skeleton_t = numpy.concatenate([skeleton,t,colors],1)\n",
    "    point_indices_t = i*num_joints+numpy.array(view_joints)\n",
    "    line_indices_t = i*num_joints+get_pairs(skeleton,line_pairs)\n",
    "    # Append\n",
    "    mat.append(skeleton_t)\n",
    "    point_indices.append(point_indices_t)\n",
    "    line_indices.append(line_indices_t)\n",
    "mat = numpy.stack(mat,0)\n",
    "point_indices = numpy.stack(point_indices,0)\n",
    "line_indices = numpy.stack(line_indices,0)\n",
    "\n",
    "# Save as byte data\n",
    "mat.astype(numpy.float32).tofile('/Users/liweijie/projects/LearnOpenGL/src/1.getting_started/visualize_skeleton/skeleton.data')\n",
    "point_indices.astype(numpy.uint32).tofile('/Users/liweijie/projects/LearnOpenGL/src/1.getting_started/visualize_skeleton/point_indices.data')\n",
    "line_indices.astype(numpy.uint32).tofile('/Users/liweijie/projects/LearnOpenGL/src/1.getting_started/visualize_skeleton/line_indices.data')"
   ]
  },
  {
   "cell_type": "code",
   "execution_count": 33,
   "metadata": {},
   "outputs": [
    {
     "data": {
      "text/plain": "((176, 25, 6), (176, 15), (176, 14, 2))"
     },
     "execution_count": 33,
     "metadata": {},
     "output_type": "execute_result"
    }
   ],
   "source": [
    "mat.shape,point_indices.shape,line_indices.shape"
   ]
  },
  {
   "cell_type": "code",
   "execution_count": 26,
   "metadata": {},
   "outputs": [
    {
     "data": {
      "text/plain": "array([[[  17,   15],\n        [  15,    0],\n        [   0,   16],\n        ...,\n        [   6,    7],\n        [   9,    8],\n        [   8,   12]],\n\n       [[  42,   40],\n        [  40,   25],\n        [  25,   41],\n        ...,\n        [  31,   32],\n        [  34,   33],\n        [  33,   37]],\n\n       [[  67,   65],\n        [  65,   50],\n        [  50,   66],\n        ...,\n        [  56,   57],\n        [  59,   58],\n        [  58,   62]],\n\n       ...,\n\n       [[4342, 4340],\n        [4340, 4325],\n        [4325, 4341],\n        ...,\n        [4331, 4332],\n        [4334, 4333],\n        [4333, 4337]],\n\n       [[4367, 4365],\n        [4365, 4350],\n        [4350, 4366],\n        ...,\n        [4356, 4357],\n        [4359, 4358],\n        [4358, 4362]],\n\n       [[4392, 4390],\n        [4390, 4375],\n        [4375, 4391],\n        ...,\n        [4381, 4382],\n        [4384, 4383],\n        [4383, 4387]]])"
     },
     "execution_count": 26,
     "metadata": {},
     "output_type": "execute_result"
    }
   ],
   "source": [
    "line_indices"
   ]
  }
 ]
}