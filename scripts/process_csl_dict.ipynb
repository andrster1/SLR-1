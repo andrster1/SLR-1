{
 "nbformat": 4,
 "nbformat_minor": 2,
 "metadata": {
  "language_info": {
   "name": "python",
   "codemirror_mode": {
    "name": "ipython",
    "version": 3
   },
   "version": "3.7.6-final"
  },
  "orig_nbformat": 2,
  "file_extension": ".py",
  "mimetype": "text/x-python",
  "name": "python",
  "npconvert_exporter": "python",
  "pygments_lexer": "ipython3",
  "version": 3,
  "kernelspec": {
   "name": "python37664bit0ecf791bd83b4b4eb3b96ac531fee81e",
   "display_name": "Python 3.7.6 64-bit"
  }
 },
 "cells": [
  {
   "cell_type": "code",
   "execution_count": null,
   "metadata": {},
   "outputs": [],
   "source": [
    "f = open('dictionary.txt','r')\n",
    "words = f.readlines()"
   ]
  },
  {
   "cell_type": "code",
   "execution_count": null,
   "metadata": {},
   "outputs": [],
   "source": [
    "dictionary = {}\n",
    "for word in words:\n",
    "    data = word.rstrip('\\n').split()\n",
    "    index = int(data[0])\n",
    "    token = data[1]\n",
    "    dictionary[token] = index\n",
    "dictionary"
   ]
  },
  {
   "cell_type": "code",
   "execution_count": null,
   "metadata": {},
   "outputs": [],
   "source": [
    "import jieba\n",
    "f = open('corpus.txt','r')\n",
    "sentences = f.readlines()\n",
    "count = 0\n",
    "csl_dictionary = {}\n",
    "punctuation = [' ','\\n','\\ufeff']\n",
    "for sentence in sentences:\n",
    "    words = jieba.cut(sentence.rstrip('\\n'))\n",
    "    for word in words:\n",
    "        if word not in csl_dictionary.values() and word not in punctuation and '0' not in word:\n",
    "            csl_dictionary[count] = word\n",
    "            count += 1\n",
    "csl_dictionary"
   ]
  },
  {
   "cell_type": "code",
   "execution_count": null,
   "metadata": {},
   "outputs": [],
   "source": [
    "def isIndict(k,dictionary):\n",
    "    for word in dictionary.keys():\n",
    "        if k in word:\n",
    "            return word\n",
    "    return -1\n",
    "isl_in_csl_dictionary = {}\n",
    "for k in csl_dictionary.values():\n",
    "    word = isIndict(k,dictionary)\n",
    "    if word!=-1:\n",
    "        index = dictionary[word]\n",
    "        isl_in_csl_dictionary[k] = index\n",
    "isl_in_csl_dictionary = sorted(isl_in_csl_dictionary.items(),key=lambda item:item[1])\n",
    "isl_in_csl_dictionary"
   ]
  },
  {
   "cell_type": "code",
   "execution_count": null,
   "metadata": {},
   "outputs": [],
   "source": [
    "# Generate subset file for validation\n",
    "subset_index_list = [record[1] for record in isl_in_csl_dictionary]\n",
    "\n",
    "import os\n",
    "import os.path as osp\n",
    "\n",
    "def create_path(path):\n",
    "    if not osp.exists(path):\n",
    "        os.makedirs(path)\n",
    "\n",
    "num_class = 500\n",
    "color_video_root = \"/home/liweijie/SLR_dataset/S500_color_video\"\n",
    "skeleton_root = \"/home/liweijie/SLR_dataset/xf500_body_color_txt\"\n",
    "val_list = open(\"../input/subset_val_list.txt\",\"w\")\n",
    "\n",
    "color_video_path_list = os.listdir(color_video_root)\n",
    "color_video_path_list.sort()\n",
    "n = len(color_video_path_list)\n",
    "for i,color_video_path in enumerate(color_video_path_list):\n",
    "    print(\"%d/%d\"%(i,n))\n",
    "    label = color_video_path\n",
    "    abs_color_video_path = osp.join(color_video_root,color_video_path)\n",
    "    color_video_list = os.listdir(abs_color_video_path)\n",
    "    color_video_list.sort()\n",
    "    index = int(label)\n",
    "    if index in subset_index_list:\n",
    "        for color_video in color_video_list:\n",
    "            abs_color_video = osp.join(abs_color_video_path,color_video)\n",
    "            if(osp.isdir(abs_color_video)):\n",
    "                p = color_video.split('_')\n",
    "                person = int(p[0].lstrip('P'))\n",
    "                num_frames = len(os.listdir(abs_color_video))\n",
    "                path = osp.join(color_video_path,color_video)\n",
    "                if not '(' in path:\n",
    "                    path_skeleton = path.rstrip(\"color\")+\"body.txt\"\n",
    "                    abs_path_skeleton = osp.join(skeleton_root,path_skeleton)\n",
    "                    if osp.exists(abs_path_skeleton):\n",
    "                        record = path+\"\\t\"+path_skeleton+\"\\t\"+\\\n",
    "                                            str(num_frames)+\"\\t\"+color_video_path+\"\\n\"\n",
    "                        val_list.write(record)\n",
    "                    else:\n",
    "                        print(\"The skeleton path %s don't exist\"%abs_path_skeleton)"
   ]
  }
 ]
}