{
 "nbformat": 4,
 "nbformat_minor": 2,
 "metadata": {
  "language_info": {
   "name": "python",
   "codemirror_mode": {
    "name": "ipython",
    "version": 3
   },
   "version": "3.7.6-final"
  },
  "orig_nbformat": 2,
  "file_extension": ".py",
  "mimetype": "text/x-python",
  "name": "python",
  "npconvert_exporter": "python",
  "pygments_lexer": "ipython3",
  "version": 3,
  "kernelspec": {
   "name": "python37664bit0ecf791bd83b4b4eb3b96ac531fee81e",
   "display_name": "Python 3.7.6 64-bit"
  }
 },
 "cells": [
  {
   "cell_type": "code",
   "execution_count": 6,
   "metadata": {},
   "outputs": [],
   "source": [
    "f = open('dictionary.txt',encoding='utf-8')\n",
    "words = f.readlines()"
   ]
  },
  {
   "cell_type": "code",
   "execution_count": 7,
   "metadata": {},
   "outputs": [
    {
     "data": {
      "text/plain": "84"
     },
     "execution_count": 7,
     "metadata": {},
     "output_type": "execute_result"
    }
   ],
   "source": [
    "isl_dictionary = {}\n",
    "for word in words:\n",
    "    data = word.rstrip('\\n').split()\n",
    "    index = int(data[0])\n",
    "    token = data[1]\n",
    "    isl_dictionary[token] = index\n",
    "def reverse_dictionary(dictionary):\n",
    "    reverse_dict = {}\n",
    "    for k,v in dictionary.items():\n",
    "        reverse_dict[v] = k\n",
    "    return reverse_dict\n",
    "reverse_dict = reverse_dictionary(isl_dictionary)\n",
    "reverse_dict[83],reverse_dict[377],reverse_dict[411]\n",
    "isl_dictionary['圆满']"
   ]
  },
  {
   "cell_type": "code",
   "execution_count": 27,
   "metadata": {},
   "outputs": [],
   "source": [
    "import jieba\n",
    "f = open('corpus.txt','r')\n",
    "sentences = f.readlines()\n",
    "count = 0\n",
    "csl_dictionary = {}\n",
    "punctuation = [' ','\\n','\\ufeff']\n",
    "for sentence in sentences:\n",
    "    words = jieba.cut(sentence.rstrip('\\n'))\n",
    "    for word in words:\n",
    "        if word not in csl_dictionary.values() and word not in punctuation and '0' not in word:\n",
    "            csl_dictionary[word] = count\n",
    "            count += 1"
   ]
  },
  {
   "cell_type": "code",
   "execution_count": 28,
   "metadata": {},
   "outputs": [
    {
     "name": "stdout",
     "output_type": "stream",
     "text": "女朋友\n现实情况\n国家\n自由恋爱\n扭转局面\n经济\n事业成功\n经验丰富\n有雨\n他人\n圆满成功\n针线\n星星\n小孩子\n"
    }
   ],
   "source": [
    "def isIndict(k,dictionary):\n",
    "    for word in dictionary.keys():\n",
    "        if k in word:\n",
    "            return word\n",
    "    return -1\n",
    "isl_in_csl_dictionary = {}\n",
    "for k in csl_dictionary.keys():\n",
    "    word = isIndict(k,isl_dictionary)\n",
    "    if word!=-1:\n",
    "        index = isl_dictionary[word]\n",
    "        isl_in_csl_dictionary[k] = index\n",
    "    else:\n",
    "        print(k)\n",
    "# isl_in_csl_dictionary = sorted(isl_in_csl_dictionary.items(),key=lambda item:item[1])"
   ]
  },
  {
   "cell_type": "code",
   "execution_count": 29,
   "metadata": {},
   "outputs": [
    {
     "data": {
      "text/plain": "163"
     },
     "execution_count": 29,
     "metadata": {},
     "output_type": "execute_result"
    }
   ],
   "source": [
    "len(isl_in_csl_dictionary)"
   ]
  },
  {
   "cell_type": "code",
   "execution_count": null,
   "metadata": {},
   "outputs": [],
   "source": [
    "# Generate subset file for validation\n",
    "subset_index_list = [record[1] for record in isl_in_csl_dictionary]\n",
    "\n",
    "import os\n",
    "import os.path as osp\n",
    "\n",
    "def create_path(path):\n",
    "    if not osp.exists(path):\n",
    "        os.makedirs(path)\n",
    "\n",
    "num_class = 500\n",
    "color_video_root = \"/home/liweijie/SLR_dataset/S500_color_video\"\n",
    "skeleton_root = \"/home/liweijie/SLR_dataset/xf500_body_color_txt\"\n",
    "val_list = open(\"../input/subset_val_list.txt\",\"w\")\n",
    "\n",
    "color_video_path_list = os.listdir(color_video_root)\n",
    "color_video_path_list.sort()\n",
    "n = len(color_video_path_list)\n",
    "for i,color_video_path in enumerate(color_video_path_list):\n",
    "    print(\"%d/%d\"%(i,n))\n",
    "    label = color_video_path\n",
    "    abs_color_video_path = osp.join(color_video_root,color_video_path)\n",
    "    color_video_list = os.listdir(abs_color_video_path)\n",
    "    color_video_list.sort()\n",
    "    index = int(label)\n",
    "    if index in subset_index_list:\n",
    "        for color_video in color_video_list:\n",
    "            abs_color_video = osp.join(abs_color_video_path,color_video)\n",
    "            if(osp.isdir(abs_color_video)):\n",
    "                p = color_video.split('_')\n",
    "                person = int(p[0].lstrip('P'))\n",
    "                num_frames = len(os.listdir(abs_color_video))\n",
    "                path = osp.join(color_video_path,color_video)\n",
    "                if not '(' in path:\n",
    "                    path_skeleton = path.rstrip(\"color\")+\"body.txt\"\n",
    "                    abs_path_skeleton = osp.join(skeleton_root,path_skeleton)\n",
    "                    if osp.exists(abs_path_skeleton):\n",
    "                        record = path+\"\\t\"+path_skeleton+\"\\t\"+\\\n",
    "                                            str(num_frames)+\"\\t\"+color_video_path+\"\\n\"\n",
    "                        val_list.write(record)\n",
    "                    else:\n",
    "                        print(\"The skeleton path %s don't exist\"%abs_path_skeleton)"
   ]
  },
  {
   "cell_type": "code",
   "execution_count": 8,
   "metadata": {},
   "outputs": [
    {
     "name": "stderr",
     "output_type": "stream",
     "text": "Building prefix dict from the default dictionary ...\nLoading model from cache /var/folders/sw/5zgmywxn44l86shpggdfz_h00000gn/T/jieba.cache\nLoading model cost 0.764 seconds.\nPrefix dict has been built successfully.\nBuild CSL dictionary successfully!\n"
    }
   ],
   "source": [
    "import jieba\n",
    "from collections import Counter\n",
    "def build_csl_dictionary():\n",
    "    annotation_file = open(\"corpus.txt\",'r')\n",
    "    corpus = annotation_file.readlines()\n",
    "    corpus = [sentence.rstrip('\\n').split()[1] for sentence in corpus]\n",
    "    # Create a dictionary which maps tokens to indices (train contains all the training sentences)\n",
    "    freq_list = Counter()\n",
    "    punctuation = ['\\ufeff']\n",
    "    for sentence in corpus:\n",
    "        sentence = [word for word in jieba.cut(sentence) if not word in punctuation]\n",
    "        freq_list.update(sentence)\n",
    "\n",
    "    # 按照词的出现频率建立词典，词频越高索引越靠前\n",
    "    freq_list = sorted(freq_list.items(),key=lambda item:item[1],reverse=True)\n",
    "    dictionary = {}\n",
    "    dictionary['<pad>'] = 0\n",
    "    dictionary['<bos>'] = 1\n",
    "    dictionary['<eos>'] = 2\n",
    "    for i,item in enumerate(freq_list):\n",
    "        dictionary[item[0]] = i+3\n",
    "    print(\"Build CSL dictionary successfully!\")\n",
    "    return dictionary\n",
    "dictionary = build_csl_dictionary()\n",
    "reverse_dict = reverse_dictionary(dictionary)"
   ]
  },
  {
   "cell_type": "code",
   "execution_count": 25,
   "metadata": {},
   "outputs": [
    {
     "data": {
      "text/plain": "'是'"
     },
     "execution_count": 25,
     "metadata": {},
     "output_type": "execute_result"
    }
   ],
   "source": [
    "reverse_dict[4]"
   ]
  },
  {
   "cell_type": "code",
   "execution_count": 24,
   "metadata": {},
   "outputs": [
    {
     "data": {
      "text/plain": "{'情况': 0,\n '前途': 1,\n '形势': 2,\n '局势': 3,\n '动态': 4,\n '形态': 5,\n '声势': 6,\n '优势': 7,\n '现实': 8,\n '实际': 9,\n '定局': 10,\n '局面': 11,\n '局部': 12,\n '部分': 13,\n '过渡': 14,\n '标志': 15,\n '目标': 16,\n '目的': 17,\n '意义': 18,\n '结果': 19,\n '作用': 20,\n '用途': 21,\n '功能': 22,\n '环节': 23,\n '头绪': 24,\n '公益': 25,\n '利益': 26,\n '成效（成功）': 27,\n '效益': 28,\n '有效': 29,\n '程度': 30,\n '进度': 31,\n '象征': 32,\n '根源': 33,\n '体现': 34,\n '普及': 35,\n '提高': 36,\n '利用': 37,\n '引导': 38,\n '开展': 39,\n '发展': 40,\n '发挥': 41,\n '发动': 42,\n '发生': 43,\n '出现': 44,\n '成立（建立）': 45,\n '形成': 46,\n '构成': 47,\n '实行': 48,\n '转折（拐弯）': 49,\n '扭转': 50,\n '好转': 51,\n '改善（改良）': 52,\n '搞清': 53,\n '承受': 54,\n '摆脱': 55,\n '解除': 56,\n '解散': 57,\n '放弃（放）': 58,\n '废除': 59,\n '民主': 60,\n '自由': 61,\n '集中': 62,\n '安定': 63,\n '团结': 64,\n '庄严': 65,\n '热闹': 66,\n '富裕': 67,\n '富强': 68,\n '丰富': 69,\n '小康': 70,\n '和睦': 71,\n '幸福': 72,\n '吉祥': 73,\n '安静': 74,\n '寂静': 75,\n '孤立': 76,\n '贫苦': 77,\n '禁止': 78,\n '反复（重复）': 79,\n '延长': 80,\n '耽误': 81,\n '避免': 82,\n '专门': 83,\n '圆满': 84,\n '困难': 85,\n '容易': 86,\n '紧张': 87,\n '稳定': 88,\n '基础（根据）': 89,\n '基本': 90,\n '加强': 91,\n '详细': 92,\n '保留': 93,\n '安全': 94,\n '危害': 95,\n '升': 96,\n '降': 97,\n '涨': 98,\n '落': 99,\n '来': 100,\n '去（出）': 101,\n '到': 102,\n '晒': 103,\n '醒': 104,\n '有': 105,\n '没有（无）': 106,\n '是': 107,\n '不是': 108,\n '属于': 109,\n '小': 110,\n '多': 111,\n '少': 112,\n '长': 113,\n '短': 114,\n '高': 115,\n '矮（低）': 116,\n '远': 117,\n '近': 118,\n '宽（宽广）': 119,\n '窄（狭）': 120,\n '粗': 121,\n '细（细致）': 122,\n '厚': 123,\n '薄': 124,\n '轻': 125,\n '重': 126,\n '沉重': 127,\n '硬': 128,\n '软': 129,\n '深': 130,\n '浅': 131,\n '快': 132,\n '慢': 133,\n '冷': 134,\n '热（汗）': 135,\n '暖（温暖、暖和）': 136,\n '胖（肥）': 137,\n '瘦': 138,\n '饱': 139,\n '饿': 140,\n '满': 141,\n '新': 142,\n '旧': 143,\n '好': 144,\n '坏': 145,\n '差（劣）': 146,\n '漏（滴）': 147,\n '真': 148,\n '假': 149,\n '美': 150,\n '丑': 151,\n '正': 152,\n '歪（倾向）': 153,\n '直': 154,\n '曲（曲折）': 155,\n '平（平等）': 156,\n '皱': 157,\n '褶子': 158,\n '干': 159,\n '温': 160,\n '单': 161,\n '双': 162,\n '疏': 163,\n '密': 164,\n '密集': 165,\n '空': 166,\n '实': 167,\n '紧': 168,\n '松': 169,\n '胀': 170,\n '缩': 171,\n '强': 172,\n '弱': 173,\n '浓': 174,\n '淡': 175,\n '清淡': 176,\n '嫩': 177,\n '老': 178,\n '尖（锋利、尖锐）': 179,\n '钝（秃）': 180,\n '破': 181,\n '缺': 182,\n '偏': 183,\n '扁（瘪）': 184,\n '韧': 185,\n '颜色（彩色）': 186,\n '红': 187,\n '橙色': 188,\n '黄': 189,\n '绿': 190,\n '碧绿': 191,\n '青': 192,\n '蓝': 193,\n '紫': 194,\n '褐色': 195,\n '灰': 196,\n '棕': 197,\n '黑': 198,\n '白': 199,\n '嫂嫂': 200,\n '姐姐': 201,\n '姐夫': 202,\n '弟弟': 203,\n '妹妹': 204,\n '宝贝': 205,\n '儿子（男孩）': 206,\n '女儿（女孩）': 207,\n '孙子': 208,\n '孙女': 209,\n '阿姨': 210,\n '表哥': 211,\n '丈夫': 212,\n '妻子': 213,\n '夫人': 214,\n '职业': 215,\n '工人': 216,\n '矿工': 217,\n '农民': 218,\n '牧民': 219,\n '小孩儿（儿童、少年）': 220,\n '青年': 221,\n '成年人（大人）': 222,\n '老人': 223,\n '残疾人': 224,\n '聋人': 225,\n '盲人': 226,\n '肢残人': 227,\n '弱智人': 228,\n '祖父（爷爷）': 229,\n '祖母（奶奶）': 230,\n '外祖父（外公）': 231,\n '外祖母（外婆）': 232,\n '爸爸': 233,\n '妈妈': 234,\n '岳父': 235,\n '岳母': 236,\n '公公': 237,\n '婆婆': 238,\n '哥哥': 239,\n '邻居': 240,\n '自己': 241,\n '我': 242,\n '你': 243,\n '他（她、它）': 244,\n '我们': 245,\n '你们': 246,\n '他们': 247,\n '别人': 248,\n '大家': 249,\n '群众': 250,\n '同志': 251,\n '同事': 252,\n '同学': 253,\n '同胞': 254,\n '朋友': 255,\n '男': 256,\n '女（姑娘）': 257,\n '先生': 258,\n '女士': 259,\n '身体': 260,\n '头（脑）': 261,\n '头发': 262,\n '辫子': 263,\n '脸': 264,\n '眼': 265,\n '耳': 266,\n '鼻': 267,\n '口': 268,\n '舌': 269,\n '牙齿': 270,\n '脚': 271,\n '心': 272,\n '人': 273,\n '人类': 274,\n '人民': 275,\n '国民': 276,\n '公民': 277,\n '市民': 278,\n '居民': 279,\n '裁缝': 280,\n '模特': 281,\n '商人': 282,\n '经纪人': 283,\n '个体户': 284,\n '会计': 285,\n '园丁': 286,\n '保姆': 287,\n '向导': 288,\n '猎手': 289,\n '解放军': 290,\n '警察': 291,\n '武警': 292,\n '刑警': 293,\n '保安': 294,\n '保卫': 295,\n '门卫': 296,\n '食品': 297,\n '食物': 298,\n '米饭（粮食）': 299,\n '公务员': 300,\n '职员': 301,\n '知识分子': 302,\n '教师': 303,\n '教练': 304,\n '翻译': 305,\n '记者': 306,\n '编辑': 307,\n '作家': 308,\n '画家': 309,\n '导演': 310,\n '演员': 311,\n '医生（大夫）': 312,\n '护士': 313,\n '学生': 314,\n '律师': 315,\n '驾驶员': 316,\n '邮递员': 317,\n '炊事员': 318,\n '保育员': 319,\n '交流': 320,\n '沟通': 321,\n '礼貌': 322,\n '谦让（客气）': 323,\n '招呼': 324,\n '观察': 325,\n '拜访': 326,\n '友谊': 327,\n '约会': 328,\n '会见（接见）': 329,\n '会客': 330,\n '祝愿': 331,\n '庆祝': 332,\n '民政': 333,\n '福利': 334,\n '捐献': 335,\n '事业': 336,\n '事情': 337,\n '事件': 338,\n '事例': 339,\n '婚姻': 340,\n '亲切': 341,\n '美容': 342,\n '工作': 343,\n '地位': 344,\n '经验': 345,\n '就业': 346,\n '岗位': 347,\n '服务': 348,\n '名声': 349,\n '名望': 350,\n '负责': 351,\n '任务': 352,\n '责任（委任）': 353,\n '推荐': 354,\n '招聘': 355,\n '社会': 356,\n '环境': 357,\n '传统': 358,\n '气氛': 359,\n '拖把（墩布）': 360,\n '扫帚': 361,\n '纸篓': 362,\n '烟灰缸': 363,\n '扇子': 364,\n '刀': 365,\n '打火机': 366,\n '电视机': 367,\n '电冰箱': 368,\n '电风扇': 369,\n '空调': 370,\n '洗衣机': 371,\n '籍贯（老家）': 372,\n '名片': 373,\n '名义': 374,\n '对象': 375,\n '欢聚': 376,\n '爱慕': 377,\n '爱戴': 378,\n '恋爱': 379,\n '枕头': 380,\n '蚊帐': 381,\n '毛毯': 382,\n '地毯': 383,\n '坐垫': 384,\n '帘子': 385,\n '首饰': 386,\n '耳环': 387,\n '项链': 388,\n '手镯': 389,\n '戒指': 390,\n '口红': 391,\n '香水': 392,\n '护肤霜': 393,\n '肥皂': 394,\n '牙刷（刷牙）': 395,\n '牙膏': 396,\n '毛巾': 397,\n '手帕': 398,\n '手表': 399,\n '眼镜': 400,\n '镜子': 401,\n '盆': 402,\n '洗脸盆': 403,\n '茶壶': 404,\n '杯子': 405,\n '尺子': 406,\n '剪刀': 407,\n '针': 408,\n '线': 409,\n '按钮（开关）': 410,\n '纽扣': 411,\n '盒子': 412,\n '锁': 413,\n '钥匙': 414,\n '伞': 415,\n '温度计（寒暑表）': 416,\n '手电筒': 417,\n '电池': 418,\n '抹布': 419,\n '油': 420,\n '盐': 421,\n '酱': 422,\n '酱油': 423,\n '粉丝': 424,\n '粉条': 425,\n '香烟': 426,\n '天空': 427,\n '天文': 428,\n '宇宙': 429,\n '星': 430,\n '恒星': 431,\n '行星': 432,\n '卫星': 433,\n '彗星': 434,\n '流星': 435,\n '地球': 436,\n '月亮': 437,\n '太阳': 438,\n '气象': 439,\n '粥': 440,\n '面粉': 441,\n '面包': 442,\n '面条': 443,\n '挂面': 444,\n '馒头': 445,\n '花卷': 446,\n '包子': 447,\n '饺子': 448,\n '馄饨': 449,\n '饼': 450,\n '烙饼': 451,\n '馅儿饼': 452,\n '窝头': 453,\n '年糕': 454,\n '粽子': 455,\n '元宵（汤圆）': 456,\n '油条': 457,\n '汤': 458,\n '快餐': 459,\n '西餐': 460,\n '蛋糕': 461,\n '点心': 462,\n '饼干': 463,\n '汉堡包': 464,\n '罐头': 465,\n '果脯': 466,\n '肉': 467,\n '蛋': 468,\n '饮料': 469,\n '牛奶': 470,\n '咖啡': 471,\n '豆浆': 472,\n '酒': 473,\n '啤酒': 474,\n '汽水': 475,\n '冰淇淋': 476,\n '冰棍儿（雪糕）': 477,\n '茶': 478,\n '开水': 479,\n '天气（气候）': 480,\n '天气预报': 481,\n '摄氏度': 482,\n '晴': 483,\n '阴': 484,\n '云': 485,\n '雨': 486,\n '家具': 487,\n '床': 488,\n '桌子': 489,\n '椅子': 490,\n '凳子': 491,\n '沙发': 492,\n '茶几': 493,\n '衣箱': 494,\n '衣橱': 495,\n '抽屉': 496,\n '床罩（床单）': 497,\n '被子': 498,\n '被套': 499}"
     },
     "execution_count": 24,
     "metadata": {},
     "output_type": "execute_result"
    }
   ],
   "source": [
    "isl_dictionary"
   ]
  }
 ]
}