{
 "nbformat": 4,
 "nbformat_minor": 2,
 "metadata": {
  "language_info": {
   "name": "python",
   "codemirror_mode": {
    "name": "ipython",
    "version": 3
   },
   "version": "3.7.6-final"
  },
  "orig_nbformat": 2,
  "file_extension": ".py",
  "mimetype": "text/x-python",
  "name": "python",
  "npconvert_exporter": "python",
  "pygments_lexer": "ipython3",
  "version": 3,
  "kernelspec": {
   "name": "python37664bit0ecf791bd83b4b4eb3b96ac531fee81e",
   "display_name": "Python 3.7.6 64-bit"
  }
 },
 "cells": [
  {
   "cell_type": "code",
   "execution_count": 1,
   "metadata": {},
   "outputs": [
    {
     "data": {
      "text/html": "<div>\n<style scoped>\n    .dataframe tbody tr th:only-of-type {\n        vertical-align: middle;\n    }\n\n    .dataframe tbody tr th {\n        vertical-align: top;\n    }\n\n    .dataframe thead th {\n        text-align: right;\n    }\n</style>\n<table border=\"1\" class=\"dataframe\">\n  <thead>\n    <tr style=\"text-align: right;\">\n      <th></th>\n      <th>id</th>\n      <th>folder</th>\n      <th>signer</th>\n      <th>annotation</th>\n    </tr>\n  </thead>\n  <tbody>\n    <tr>\n      <th>0</th>\n      <td>01April_2010_Thursday_heute_default-0</td>\n      <td>01April_2010_Thursday_heute_default-0/1/*.png</td>\n      <td>Signer04</td>\n      <td>__ON__ LIEB ZUSCHAUER ABEND WINTER GESTERN loc...</td>\n    </tr>\n    <tr>\n      <th>1</th>\n      <td>01April_2010_Thursday_heute_default-2</td>\n      <td>01April_2010_Thursday_heute_default-2/1/*.png</td>\n      <td>Signer04</td>\n      <td>loc-WEST WARM loc-WEST BLEIBEN KUEHL</td>\n    </tr>\n    <tr>\n      <th>2</th>\n      <td>01April_2010_Thursday_heute_default-3</td>\n      <td>01April_2010_Thursday_heute_default-3/1/*.png</td>\n      <td>Signer04</td>\n      <td>KUEHL KUEHL IN-KOMMEND NACHT MINUS loc-MINUS-P...</td>\n    </tr>\n    <tr>\n      <th>3</th>\n      <td>01April_2010_Thursday_heute_default-4</td>\n      <td>01April_2010_Thursday_heute_default-4/1/*.png</td>\n      <td>Signer04</td>\n      <td>MORGEN TEMPERATUR ACHT BIS DREIZEHN MAXIMAL DR...</td>\n    </tr>\n    <tr>\n      <th>4</th>\n      <td>01April_2010_Thursday_heute_default-6</td>\n      <td>01April_2010_Thursday_heute_default-6/1/*.png</td>\n      <td>Signer04</td>\n      <td>AUCH SAMSTAG WEST FREUNDLICH IX TROCKEN WEST R...</td>\n    </tr>\n    <tr>\n      <th>...</th>\n      <td>...</td>\n      <td>...</td>\n      <td>...</td>\n      <td>...</td>\n    </tr>\n    <tr>\n      <th>95</th>\n      <td>01June_2010_Tuesday_tagesschau_default-2</td>\n      <td>01June_2010_Tuesday_tagesschau_default-2/1/*.png</td>\n      <td>Signer01</td>\n      <td>__ON__ MITTE EUROPA TIEF KOMMEN KOMMEN REGEN-P...</td>\n    </tr>\n    <tr>\n      <th>96</th>\n      <td>01June_2010_Tuesday_tagesschau_default-4</td>\n      <td>01June_2010_Tuesday_tagesschau_default-4/1/*.png</td>\n      <td>Signer01</td>\n      <td>__ON__ GLEICH ZEIT WEST KOMMEN HOCH KOMMEN __O...</td>\n    </tr>\n    <tr>\n      <th>97</th>\n      <td>01June_2010_Tuesday_tagesschau_default-6</td>\n      <td>01June_2010_Tuesday_tagesschau_default-6/1/*.png</td>\n      <td>Signer01</td>\n      <td>__ON__ TAG loc-SUEDOST REGEN-PLUSPLUS KLAR REG...</td>\n    </tr>\n    <tr>\n      <th>98</th>\n      <td>01June_2010_Tuesday_tagesschau_default-12</td>\n      <td>01June_2010_Tuesday_tagesschau_default-12/1/*.png</td>\n      <td>Signer01</td>\n      <td>__ON__ TAG ZWEIZWANZIG loc-REGION ZEHN ACHT RE...</td>\n    </tr>\n    <tr>\n      <th>99</th>\n      <td>01June_2010_Tuesday_tagesschau_default-14</td>\n      <td>01June_2010_Tuesday_tagesschau_default-14/1/*.png</td>\n      <td>Signer01</td>\n      <td>FREITAG IX VIEL SONNE NUR ALPEN BISSCHEN REGEN...</td>\n    </tr>\n  </tbody>\n</table>\n<p>100 rows × 4 columns</p>\n</div>",
      "text/plain": "                                           id  \\\n0       01April_2010_Thursday_heute_default-0   \n1       01April_2010_Thursday_heute_default-2   \n2       01April_2010_Thursday_heute_default-3   \n3       01April_2010_Thursday_heute_default-4   \n4       01April_2010_Thursday_heute_default-6   \n..                                        ...   \n95   01June_2010_Tuesday_tagesschau_default-2   \n96   01June_2010_Tuesday_tagesschau_default-4   \n97   01June_2010_Tuesday_tagesschau_default-6   \n98  01June_2010_Tuesday_tagesschau_default-12   \n99  01June_2010_Tuesday_tagesschau_default-14   \n\n                                               folder    signer  \\\n0       01April_2010_Thursday_heute_default-0/1/*.png  Signer04   \n1       01April_2010_Thursday_heute_default-2/1/*.png  Signer04   \n2       01April_2010_Thursday_heute_default-3/1/*.png  Signer04   \n3       01April_2010_Thursday_heute_default-4/1/*.png  Signer04   \n4       01April_2010_Thursday_heute_default-6/1/*.png  Signer04   \n..                                                ...       ...   \n95   01June_2010_Tuesday_tagesschau_default-2/1/*.png  Signer01   \n96   01June_2010_Tuesday_tagesschau_default-4/1/*.png  Signer01   \n97   01June_2010_Tuesday_tagesschau_default-6/1/*.png  Signer01   \n98  01June_2010_Tuesday_tagesschau_default-12/1/*.png  Signer01   \n99  01June_2010_Tuesday_tagesschau_default-14/1/*.png  Signer01   \n\n                                           annotation  \n0   __ON__ LIEB ZUSCHAUER ABEND WINTER GESTERN loc...  \n1                loc-WEST WARM loc-WEST BLEIBEN KUEHL  \n2   KUEHL KUEHL IN-KOMMEND NACHT MINUS loc-MINUS-P...  \n3   MORGEN TEMPERATUR ACHT BIS DREIZEHN MAXIMAL DR...  \n4   AUCH SAMSTAG WEST FREUNDLICH IX TROCKEN WEST R...  \n..                                                ...  \n95  __ON__ MITTE EUROPA TIEF KOMMEN KOMMEN REGEN-P...  \n96  __ON__ GLEICH ZEIT WEST KOMMEN HOCH KOMMEN __O...  \n97  __ON__ TAG loc-SUEDOST REGEN-PLUSPLUS KLAR REG...  \n98  __ON__ TAG ZWEIZWANZIG loc-REGION ZEHN ACHT RE...  \n99  FREITAG IX VIEL SONNE NUR ALPEN BISSCHEN REGEN...  \n\n[100 rows x 4 columns]"
     },
     "execution_count": 1,
     "metadata": {},
     "output_type": "execute_result"
    }
   ],
   "source": [
    "import pandas as pd\n",
    "df = pd.read_csv(\"train.corpus.csv\",sep='|')\n",
    "df.head(100)"
   ]
  },
  {
   "cell_type": "code",
   "execution_count": 5,
   "metadata": {},
   "outputs": [],
   "source": [
    "import pandas as pd\n",
    "import spacy\n",
    "from collections import Counter\n",
    "import time"
   ]
  },
  {
   "cell_type": "code",
   "execution_count": 11,
   "metadata": {},
   "outputs": [],
   "source": [
    "def build_dictionary(files):\n",
    "    start = time.time()\n",
    "    lang_model = spacy.load('de_core_news_sm')\n",
    "    end = time.time()\n",
    "    print('load lang_model cost %.3f s'%(end-start))\n",
    "    train = []\n",
    "    # 合并annotation中的语料\n",
    "    for file in files:\n",
    "        df = pd.read_csv(file,sep='|')\n",
    "        for i in range(len(df)):\n",
    "            train.append(df.loc[i]['annotation'])\n",
    "\n",
    "    # Create a dictionary which maps tokens to indices (train contains all the training sentences)\n",
    "    freq_list = Counter()\n",
    "    punctuation = ['_','NULL','ON','OFF','EMOTION','LEFTHAND','IX','PU']\n",
    "    for sentence in train:\n",
    "        sentence = [tok.text for tok in lang_model.tokenizer(sentence) if not tok.text in punctuation]\n",
    "        freq_list.update(sentence)\n",
    "\n",
    "    # 按照词的出现频率建立词典，词频越高索引越靠前\n",
    "    freq_list = sorted(freq_list.items(),key=lambda item:item[1],reverse=True)\n",
    "    dictionary = {}\n",
    "    dictionary['<bos>'] = 0\n",
    "    dictionary['<eos>'] = 1\n",
    "    for i,item in enumerate(freq_list):\n",
    "        dictionary[item[0]] = i+2\n",
    "    print(\"Build dictionary successfully!\")\n",
    "    return dictionary"
   ]
  },
  {
   "cell_type": "code",
   "execution_count": 12,
   "metadata": {},
   "outputs": [
    {
     "name": "stdout",
     "output_type": "stream",
     "text": "load lang_model cost 1.337 s\nBuild dictionary successfully!\n"
    }
   ],
   "source": [
    "train_file = \"train.corpus.csv\"\n",
    "dev_file = \"dev.corpus.csv\"\n",
    "dictionary = build_dictionary([train_file,dev_file])"
   ]
  },
  {
   "cell_type": "code",
   "execution_count": 13,
   "metadata": {},
   "outputs": [
    {
     "data": {
      "text/plain": "{'<bos>': 0,\n '<eos>': 1,\n 'REGEN': 2,\n 'MORGEN': 3,\n 'WOLKE': 4,\n 'SONNE': 5,\n 'GRAD': 6,\n 'REGION': 7,\n 'WEHEN': 8,\n 'SCHNEE': 9,\n 'loc-REGION': 10,\n 'NACHT': 11,\n 'PU': 12,\n 'GEWITTER': 13,\n 'KOENNEN': 14,\n 'MEHR': 15,\n 'KOMMEN': 16,\n 'AUCH': 17,\n 'BISSCHEN': 18,\n 'HEUTE': 19,\n 'NORD': 20,\n 'SCHAUER': 21,\n 'WETTER': 22,\n 'BIS': 23,\n 'SUED': 24,\n 'cl-KOMMEN': 25,\n 'WIND': 26,\n 'DANN': 27,\n 'ZWANZIG': 28,\n 'OST': 29,\n 'NEBEL': 30,\n 'MOEGLICH': 31,\n 'ABEND': 32,\n 'FREUNDLICH': 33,\n 'JETZT': 34,\n 'BERG': 35,\n 'STURM': 36,\n 'TEIL': 37,\n 'ABER': 38,\n 'WEST': 39,\n 'MAESSIG': 40,\n 'TAG': 41,\n 'WECHSELHAFT': 42,\n 'FLUSS': 43,\n 'TIEF': 44,\n 'WIE-AUSSEHEN': 45,\n 'MINUS': 46,\n 'SCHWACH': 47,\n 'MITTE': 48,\n 'SONNTAG': 49,\n 'BLEIBEN': 50,\n 'KUEHL': 51,\n 'FREITAG': 52,\n 'KLAR': 53,\n 'HOCH': 54,\n 'VIEL': 55,\n 'TROCKEN': 56,\n 'NORDRAUM': 57,\n 'SAMSTAG': 58,\n 'STARK': 59,\n 'BESONDERS': 60,\n 'DONNERSTAG': 61,\n 'MEISTENS': 62,\n 'TEMPERATUR': 63,\n 'SONST': 64,\n 'loc-NORD': 65,\n 'KALT': 66,\n 'IN-KOMMEND': 67,\n 'UND': 68,\n 'MITTWOCH': 69,\n 'WARM': 70,\n 'MONTAG': 71,\n 'SCHNEIEN': 72,\n 'GUT': 73,\n 'NUR': 74,\n 'LAND': 75,\n 'FUENF': 76,\n 'DEUTSCH': 77,\n 'DIENSTAG': 78,\n 'REGEN-PLUSPLUS': 79,\n 'MITTAG': 80,\n 'SCHOEN': 81,\n 'NORDWESTRAUM': 82,\n 'ALPEN': 83,\n 'DREI': 84,\n 'MILD': 85,\n 'FROST': 86,\n 'KUESTE': 87,\n 'loc-NORDWEST': 88,\n 'IM-VERLAUF': 89,\n 'VIER': 90,\n 'LUFT': 91,\n 'VERSCHWINDEN': 92,\n 'HIMMEL': 93,\n 'SEHEN': 94,\n 'SIEBEN': 95,\n 'DABEI': 96,\n 'HAUPTSAECHLICH': 97,\n 'SCHON': 98,\n 'NOCH': 99,\n 'FRISCH': 100,\n 'EINS': 101,\n 'loc-SUEDOST': 102,\n 'SECHS': 103,\n 'ZEHN': 104,\n 'ACHT': 105,\n 'ZWISCHEN': 106,\n 'MAL': 107,\n 'SUEDOSTRAUM': 108,\n 'NACH': 109,\n 'MAXIMAL': 110,\n 'ZWEI': 111,\n 'loc-SUED': 112,\n 'GLATT': 113,\n 'ANFANG': 114,\n 'ENORM': 115,\n 'PLUS': 116,\n 'VIERZEHN': 117,\n 'UEBERWIEGEND': 118,\n 'NEUN': 119,\n 'NORDOSTRAUM': 120,\n 'SUEDWESTRAUM': 121,\n 'FUENFZEHN': 122,\n 'DREIZEHN': 123,\n 'WENN': 124,\n 'LIEB': 125,\n 'ZUSCHAUER': 126,\n 'DREISSIG': 127,\n 'WIEDER': 128,\n 'ZWOELF': 129,\n 'STERN': 130,\n 'DRUCK': 131,\n 'WAHRSCHEINLICH': 132,\n 'TEILWEISE': 133,\n 'BEWOELKT': 134,\n 'WENIG': 135,\n 'BAYERN': 136,\n 'MEER': 137,\n 'LANG': 138,\n 'SIEBZEHN': 139,\n 'ELF': 140,\n 'SECHSZEHN': 141,\n 'SUEDRAUM': 142,\n 'WEITER': 143,\n 'loc-WEST': 144,\n 'ODER': 145,\n 'EUROPA': 146,\n 'loc-NORDOST': 147,\n 'WIE': 148,\n 'loc-SUEDWEST': 149,\n 'ACHTZEHN': 150,\n 'RUHIG': 151,\n 'HABEN': 152,\n 'SPAETER': 153,\n 'WOCHENENDE': 154,\n 'DAZU': 155,\n 'poss-EUCH': 156,\n 'SEE': 157,\n 'STEIGEN': 158,\n 'ORKAN': 159,\n 'NAECHSTE': 160,\n 'AB': 161,\n 'SO': 162,\n 'FRUEH': 163,\n 'DURCHGEHEND': 164,\n 'loc-OST': 165,\n 'UNGEFAEHR': 166,\n 'LEICHT': 167,\n 'NICHT-HABEN': 168,\n 'WALD': 169,\n 'NEU': 170,\n 'MACHEN': 171,\n 'SINKEN': 172,\n 'VORSICHT': 173,\n 'DESWEGEN': 174,\n 'GLEICH': 175,\n 'WARNUNG': 176,\n 'BESSER': 177,\n 'DEUTSCHLAND': 178,\n 'NEUNZEHN': 179,\n 'UNWETTER': 180,\n 'AUFLOESEN': 181,\n 'EIN': 182,\n 'WOCHE': 183,\n 'WUENSCHEN': 184,\n 'VOR': 185,\n 'UEBER': 186,\n 'HEISS': 187,\n 'WESTRAUM': 188,\n 'SPEZIELL': 189,\n 'ZEIGEN': 190,\n 'ZWEIZWANZIG': 191,\n 'GEFRIEREN': 192,\n 'MIT': 193,\n 'BODEN': 194,\n 'MANCHMAL': 195,\n 'SCHEINEN': 196,\n 'HIER': 197,\n 'OKTOBER': 198,\n 'WIE-IMMER': 199,\n 'DIENST': 200,\n 'SOMMER': 201,\n 'ORT-PLUSPLUS': 202,\n 'WEHEN-PLUSPLUS': 203,\n 'JULI': 204,\n 'NAEHE': 205,\n 'NOVEMBER': 206,\n ' ': 207,\n 'poss-SEIN': 208,\n 'NORDWEST': 209,\n 'FEBRUAR': 210,\n 'TSCHUESS': 211,\n 'LANGSAM': 212,\n 'VORAUS': 213,\n 'TATSAECHLICH': 214,\n 'DEZEMBER': 215,\n 'DOCH': 216,\n 'SKANDINAVIEN': 217,\n 'WINTER': 218,\n 'OFT': 219,\n 'GEFAHR': 220,\n 'JANUAR': 221,\n 'DARUM': 222,\n 'VERAENDERN': 223,\n 'MAI': 224,\n 'METER': 225,\n 'UMWANDELN': 226,\n 'SEPTEMBER': 227,\n 'INFORMIEREN': 228,\n 'ES-BEDEUTET': 229,\n 'SUEDOST': 230,\n 'APRIL': 231,\n 'REST': 232,\n 'KAUM': 233,\n 'FEUCHT': 234,\n 'HERBST': 235,\n 'BEGRUESSEN': 236,\n 'ORT': 237,\n 'AUGUST': 238,\n 'HABEN2': 239,\n 'UNTERSCHIED': 240,\n 'ZEIGEN-BILDSCHIRM': 241,\n 'BEDEUTEN': 242,\n 'VON': 243,\n 'SCHWER': 244,\n 'GRUND': 245,\n 'loc-ZONE': 246,\n 'E': 247,\n 'ICH': 248,\n 'TAGSUEBER': 249,\n 'UEBERALL': 250,\n 'GERADE': 251,\n 'ZUERST': 252,\n 'WENIGER': 253,\n 'ALLGAEU': 254,\n 'FRANKREICH': 255,\n 'EINFLUSS': 256,\n 'EIS': 257,\n 'BLITZ': 258,\n 'VIELLEICHT': 259,\n 'DAS-IST-ES': 260,\n 'TRUEB': 261,\n 'loc-ALPEN': 262,\n 'SCHWARZ': 263,\n 'JUNI': 264,\n 'DESHALB': 265,\n 'IM-MOMENT': 266,\n 'SUEDWEST': 267,\n 'NORDOST': 268,\n 'SACHSEN': 269,\n 'L': 270,\n 'BRAND': 271,\n 'DIESE': 272,\n 'AUSSEHEN': 273,\n 'NICHT': 274,\n 'TROPFEN': 275,\n 'ZONE': 276,\n 'NACHMITTAG': 277,\n 'KRAEFTIG': 278,\n 'UNTER': 279,\n 'NICHTALP-AUCH': 280,\n 'STUNDE': 281,\n 'MAERZ': 282,\n 'DU': 283,\n 'DURCH': 284,\n 'MISCHUNG': 285,\n 'GRAUPEL': 286,\n 'NASS': 287,\n 'HEFTIG': 288,\n 'SIEBTE': 289,\n 'SCHOTTLAND': 290,\n 'ZEIT': 291,\n 'ANGENEHM': 292,\n 'ANDERE': 293,\n 'STROEMEN': 294,\n 'ERSTE': 295,\n 'WERT': 296,\n 'UNTEN': 297,\n 'OSTRAUM': 298,\n 'SAUER': 299,\n 'ENGLAND': 300,\n 'FAST': 301,\n 'RUEGEN': 302,\n 'HERZ': 303,\n 'FRUEHLING': 304,\n 'BEISPIEL': 305,\n 'PASSEN': 306,\n 'SELTEN': 307,\n 'HOEHE': 308,\n 'HAGEL': 309,\n 'ZWEITE': 310,\n 'EINIGERMASSEN': 311,\n 'SCHNEE-PLUSPLUS': 312,\n 'SCHAUER-PLUSPLUS': 313,\n 'BURG': 314,\n 'VERSCHIEDEN': 315,\n 'DONNER': 316,\n 'GRENZE': 317,\n 'TAL': 318,\n 'THUERINGEN': 319,\n 'AEHNLICH': 320,\n 'KURZ': 321,\n 'GANZTAGS': 322,\n 'VORAUSSAGE': 323,\n 'DAZWISCHEN': 324,\n 'POLEN': 325,\n 'LOCH': 326,\n 'SECHSTE': 327,\n 'NOCHEINMAL': 328,\n 'EINIGE': 329,\n 'ZEHNTE': 330,\n 'MITTEILEN': 331,\n 'WO': 332,\n 'VOGEL': 333,\n 'WAS': 334,\n 'VIERTE': 335,\n 'loc-ORT-PLUSPLUS': 336,\n 'SUPER': 337,\n 'NAH': 338,\n 'AUFZIEHEN': 339,\n 'ACH': 340,\n 'DASSELBE': 341,\n 'LOCKER': 342,\n 'KOELN': 343,\n 'B': 344,\n 'NICHTS': 345,\n 'RECHNEN': 346,\n 'INSGESAMT': 347,\n 'UEBERSCHWEMMUNG': 348,\n 'WARUM': 349,\n 'SCHWUEL': 350,\n 'BERLIN': 351,\n 'M': 352,\n 'KOMMEN-PLUSPLUS': 353,\n 'KEIN': 354,\n 'ALS': 355,\n 'VERBREITEN': 356,\n 'VORBEI': 357,\n 'DANACH': 358,\n 'Z': 359,\n 'AUFLOCKERUNG': 360,\n 'RICHTUNG': 361,\n 'TROTZDEM': 362,\n 'DAENEMARK': 363,\n 'SOLL': 364,\n 'SCHAFFEN': 365,\n 'FUENFTE': 366,\n 'HEUTE-NACHT': 367,\n 'LOS': 368,\n 'BISHER': 369,\n 'ACHTE': 370,\n 'FLACH': 371,\n 'VERRINGERN': 372,\n 'ALLE': 373,\n 'S': 374,\n 'NICHT-MEHR': 375,\n 'NICHT-VIEL': 376,\n 'I': 377,\n 'R': 378,\n 'F': 379,\n 'ES-GIBT': 380,\n 'STRASSE': 381,\n 'H': 382,\n 'NOCH-NICHT': 383,\n 'SCHNELL': 384,\n 'ACHTUNG': 385,\n 'LETZTE': 386,\n 'IHR': 387,\n 'SAGEN': 388,\n 'NORMAL': 389,\n 'A': 390,\n 'DRITTE': 391,\n 'AUF': 392,\n 'FUENFHUNDERT': 393,\n 'RUSSLAND': 394,\n 'ITALIEN': 395,\n 'SECHSHUNDERT': 396,\n 'AM-TAG': 397,\n 'TAUEN': 398,\n 'loc-KOMMEN': 399,\n 'VORHER': 400,\n 'loc-KUESTE': 401,\n 'OBER': 402,\n 'MUESSEN': 403,\n 'JA': 404,\n 'UMKEHREN': 405,\n 'NEUNTE': 406,\n 'UND-DANN': 407,\n 'NICHTALP-KEIN': 408,\n 'SCHAUEN': 409,\n 'FUER': 410,\n 'DA': 411,\n 'DICK': 412,\n 'ERSTMAL': 413,\n 'MORGENS': 414,\n 'SCHLESWIG': 415,\n 'WOHER': 416,\n 'LITER': 417,\n 'MERKEN': 418,\n 'WECHSEL': 419,\n 'NIEDER': 420,\n 'DAUER': 421,\n 'PUNKT': 422,\n 'EUCH': 423,\n 'VORTEIL': 424,\n 'poss-BEI-UNS': 425,\n 'BIS-JETZT': 426,\n 'U': 427,\n 'WOLKE-PLUSPLUS': 428,\n 'LEIDER': 429,\n 'NICHT-KAUM': 430,\n 'VORMITTAG': 431,\n 'JAHR': 432,\n 'EIFEL': 433,\n 'DREIDREISSIG': 434,\n 'NEIN': 435,\n 'GROSSBRITANNIEN': 436,\n 'WECHSELHAFT-PLUSPLUS': 437,\n 'STELLENWEISE': 438,\n 'HOLSTEIN': 439,\n 'SYLT': 440,\n 'AM': 441,\n 'WIRKLICH': 442,\n 'GRAU': 443,\n 'SONNE-PLUSPLUS': 444,\n 'WASSER': 445,\n 'TYPISCH': 446,\n 'GRIECHENLAND': 447,\n 'BEWEGEN': 448,\n 'VERKEHR': 449,\n 'SELBE': 450,\n 'GEWESEN': 451,\n 'NICHT-REGEN': 452,\n 'HUNDERT': 453,\n 'OBEN': 454,\n 'loc-GRENZE': 455,\n 'WIRBEL': 456,\n 'UM': 457,\n 'PAAR': 458,\n 'BADEN': 459,\n 'MEHR-PLUSPLUS': 460,\n 'FOLGE': 461,\n 'GESTERN': 462,\n 'BLAU': 463,\n 'NIEDERSACHSEN': 464,\n 'W': 465,\n 'SIE': 466,\n 'RISIKO': 467,\n 'DICHT': 468,\n 'SAGE': 469,\n 'GEWITTER-PLUSPLUS': 470,\n 'SPANIEN': 471,\n 'loc-WEHEN': 472,\n 'NORWEGEN': 473,\n 'HARMLOS': 474,\n 'J': 475,\n 'VIERHUNDERT': 476,\n 'GROSS': 477,\n 'HOCHWASSER': 478,\n 'ABWECHSELN': 479,\n 'SCHWEDEN': 480,\n 'SIEBENHUNDERT': 481,\n 'ZURUECK': 482,\n 'BRAUCHEN': 483,\n 'OSTERN': 484,\n 'D': 485,\n 'HAELFTE': 486,\n 'ANKOMMEN': 487,\n 'V': 488,\n 'SCHLUSS': 489,\n 'KNAPP': 490,\n 'C': 491,\n 'NICHT-NICHTS': 492,\n 'TAUSEND': 493,\n 'RHEIN': 494,\n 'ROT': 495,\n 'ISLAND': 496,\n 'FELD': 497,\n 'AUFTAUCHEN': 498,\n 'STABIL': 499,\n 'ERST': 500,\n 'UEBERMORGEN': 501,\n 'STEIN': 502,\n 'GEBEN': 503,\n 'NICHT-KEIN': 504,\n 'P': 505,\n 'TEXT': 506,\n 'ZWEIDREISSIG': 507,\n 'WEG': 508,\n 'T': 509,\n 'ZENTIMETER': 510,\n 'poss-MEIN': 511,\n 'GEWOHNT': 512,\n 'ETWAS': 513,\n 'AUF-JEDEN-FALL': 514,\n 'ANDERS': 515,\n 'NIESELREGEN': 516,\n 'SCHLIMM': 517,\n 'VIERZIG': 518,\n 'QUADRATMETER': 519,\n 'SCHWIERIG': 520,\n 'PASSIEREN': 521,\n 'NICHT-TROCKEN': 522,\n 'FUEHLEN-WIE': 523,\n 'STURM-PLUSPLUS': 524,\n 'BEREICH': 525,\n 'loc-MITTE': 526,\n 'BRANDENBURG': 527,\n 'HOEHER': 528,\n 'ERWARTEN': 529,\n 'Y': 530,\n 'SCH': 531,\n 'ZWOELFTE': 532,\n 'IMMER': 533,\n 'ENTSCHULDIGUNG': 534,\n 'FAHREN': 535,\n 'UHR': 536,\n 'ZWISCHEN-NULL': 537,\n 'FOEHN': 538,\n 'WIRBELSTURM': 539,\n 'loc-LAND': 540,\n 'NACH-HAUSE': 541,\n 'BELGIEN': 542,\n 'CHAOS': 543,\n 'loc-REGION-PLUSPLUS': 544,\n 'ENDLICH': 545,\n 'POSITIV': 546,\n 'WAR': 547,\n 'K': 548,\n 'WIR': 549,\n 'AUFPASSEN': 550,\n 'JEDEN-TAG': 551,\n 'TUERKEI': 552,\n 'KUEHLER': 553,\n 'DREIHUNDERT': 554,\n 'IN-PAAR-TAG': 555,\n 'SPAET': 556,\n 'ACHTHUNDERT': 557,\n 'TAGE': 558,\n 'AUSRICHTEN': 559,\n 'BESTIMMT': 560,\n 'BOEE': 561,\n 'ZWEI-TAG': 562,\n 'NORDSEE': 563,\n 'GEMUETLICH': 564,\n 'GEHEN': 565,\n 'loc-AUFZIEHEN': 566,\n 'BEKANNTGEBEN': 567,\n 'DAMEN': 568,\n 'HERREN': 569,\n 'NEUNHUNDERT': 570,\n 'ZENTRUM': 571,\n 'CHANCE': 572,\n 'FALLEN': 573,\n 'BRINGEN': 574,\n 'NORDRHEIN-WESTFALEN': 575,\n 'FERTIG': 576,\n 'HOFFEN': 577,\n 'HAUPT': 578,\n 'HALLO': 579,\n 'loc-WIND': 580,\n 'NICHT-KLAR': 581,\n 'OBWOHL': 582,\n 'AUTO': 583,\n 'QUELL': 584,\n 'NICHT-FROST': 585,\n 'GLEICH-BLEIBEN': 586,\n 'WICHTIG': 587,\n 'TJA': 588,\n 'KLEIN': 589,\n 'BLOCKIEREN': 590,\n 'GENAU': 591,\n 'HART': 592,\n 'loc-STELLENWEISE-PLUSPLUS': 593,\n 'RUND-UM-DIE-UHR': 594,\n 'REKORD': 595,\n 'MAINZ': 596,\n 'AUS': 597,\n 'HESSEN': 598,\n 'LEUTE': 599,\n 'IRLAND': 600,\n 'PFALZ': 601,\n 'INTERNET': 602,\n 'ZU-ENDE': 603,\n 'WER': 604,\n 'PROZENT': 605,\n 'NICHT-GRAD': 606,\n 'FINNLAND': 607,\n 'ZUFRIEDEN': 608,\n 'ENDE': 609,\n 'loc-TIEF': 610,\n 'FLAECHENDECKEND': 611,\n 'SIEBZIG': 612,\n 'WIE-GEBLIEBEN': 613,\n 'INSEL': 614,\n 'AACHEN': 615,\n 'SCHNEIEN-PLUSPLUS': 616,\n 'ACHTZIG': 617,\n 'OESTERREICH': 618,\n 'KILOMETER': 619,\n 'loc-POSITION-PLUSPLUS': 620,\n 'TAUGEN': 621,\n 'HAMBURG': 622,\n 'NICHT-SCHOEN': 623,\n 'LIEGEN': 624,\n 'VERMEIDEN': 625,\n 'FLUT': 626,\n 'EIN-PAAR': 627,\n 'HOLLAND': 628,\n 'VERLAUFEN': 629,\n 'STOCKEN': 630,\n 'PROBLEM': 631,\n 'HAAR': 632,\n 'SAARLAND': 633,\n 'BAD': 634,\n 'NICHT-KALT': 635,\n 'ZIEHEN': 636,\n 'SPRIESSEN': 637,\n 'DAUERND': 638,\n 'PRO': 639,\n 'VORBEREITEN': 640,\n 'MOEGEN': 641,\n 'SKI': 642,\n 'loc-BERG': 643,\n 'BLUETE': 644,\n 'DUENN': 645,\n 'BRITANNIEN': 646,\n 'LUECKE': 647,\n 'SITZ': 648,\n 'BODENSEE': 649,\n 'loc-REGEN': 650,\n 'WEIHNACHTEN': 651,\n 'BEOBACHTEN': 652,\n 'AKTUELL': 653,\n 'SPUEREN': 654,\n 'ZUSAMMENHANG': 655,\n 'ELFTE': 656,\n 'ANGEMESSEN': 657,\n 'FREI': 658,\n 'VERGLEICH': 659,\n 'NICHT-SCHLIMM': 660,\n 'loc-BEREICH': 661,\n 'TRENNEN': 662,\n 'PFINGSTEN': 663,\n 'NICHT-SONNE': 664,\n 'WISSEN': 665,\n 'ALSO': 666,\n 'POMMERN': 667,\n 'AN': 668,\n 'WUERTTEMBERG': 669,\n 'LAGE': 670,\n 'DRESDEN': 671,\n 'SPAZIEREN': 672,\n 'PLOETZLICH': 673,\n 'NICHT-REGION': 674,\n 'REIN': 675,\n 'UNGEMUETLICH': 676,\n 'HALB': 677,\n 'HAFTEN': 678,\n 'NICHT-NEBEL': 679,\n 'STRAHLEN': 680,\n 'FRANKFURT': 681,\n 'AUFKLAREN': 682,\n 'FUENFZIG': 683,\n 'WEIHNACHT': 684,\n 'BEISEITE': 685,\n 'ABSCHNITT': 686,\n 'VERDICHTEN': 687,\n 'IN-BESTIMMT-ZEIT': 688,\n 'E+R+Z': 689,\n 'NICHT-WOLKE': 690,\n 'MUENSTER': 691,\n 'O': 692,\n 'GEMISCHT': 693,\n 'GROB': 694,\n 'GELB': 695,\n 'GESAMT': 696,\n 'GOLD': 697,\n 'SCHLECHT': 698,\n 'N': 699,\n 'loc-POSITION': 700,\n 'STRENG': 701,\n 'loc-NULL': 702,\n 'IM': 703,\n 'ERDRUTSCH': 704,\n 'GLUECK': 705,\n 'TOLL': 706,\n 'FLOCKEN': 707,\n 'MUENCHEN': 708,\n 'loc-UEBERALL': 709,\n 'loc-LOCH-PLUSPLUS': 710,\n 'cl-NULL': 711,\n 'FREUEN': 712,\n 'RICHTIG': 713,\n 'NICHT-NORD': 714,\n 'ZUG': 715,\n 'SPITZE': 716,\n 'loc-HABEN': 717,\n 'NICHT-GEWITTER': 718,\n 'TSCHECHIEN': 719,\n 'AUSWAEHLEN-PLUSPLUS': 720,\n 'NICHT-SEHEN': 721,\n 'NICHT-FUEHLEN': 722,\n 'REGION-PLUSPLUS': 723,\n 'DEUTSCHLANDRAUM': 724,\n 'SCHLIMMER': 725,\n 'WIRTSCHAFT': 726,\n 'STOERUNG': 727,\n 'NATUR': 728,\n 'AUFBLUEHEN': 729,\n 'WARTEN': 730,\n 'FLIESSEN': 731,\n 'GENUG': 732,\n 'RODELN': 733,\n 'NORDPOL': 734,\n 'SCHADEN': 735,\n 'WEIN': 736,\n 'MOMENT': 737,\n 'SO-BLEIBEN': 738,\n 'PAUSE': 739,\n 'FROST-PLUSPLUS': 740,\n 'IN-PAAR-TAGE-SPAETER': 741,\n 'AUSNAHME': 742,\n 'NICHT-GEMUETLICH': 743,\n 'KLAPPEN': 744,\n 'BAUM': 745,\n 'T-SHIRT': 746,\n 'WAHR': 747,\n 'G': 748,\n 'NAECHSTE-WOCHE': 749,\n 'INSEL-PLUSPLUS': 750,\n 'ABSINKEN': 751,\n 'BITTE': 752,\n 'TUN': 753,\n 'SEHR': 754,\n 'IN': 755,\n 'TROPISCH': 756,\n 'ENTSPANNT': 757,\n 'MORGEN-FRUEH': 758,\n 'GEHOERT': 759,\n 'FUER-ALLE': 760,\n 'ZUSAMMEN': 761,\n 'NICHT-NEIN': 762,\n 'GEBIRGE': 763,\n 'MOND': 764,\n 'GUT-ABEND': 765,\n 'KRATZEN': 766,\n 'loc-FLUSS': 767,\n 'TROPFEN-PLUSPLUS': 768,\n 'WOHNEN': 769,\n 'ZU': 770,\n 'loc-FLAECHENDECKEND': 771,\n 'HAGEL-PLUSPLUS': 772,\n 'ERFURT': 773,\n 'VERSCHIEBEN': 774,\n 'AUFLOESEN-PLUSPLUS': 775,\n 'NICHT-NICHT-MEHR': 776,\n 'KIEL': 777,\n 'SCHLECHTER': 778,\n 'ERZ': 779,\n 'GLATTEIS': 780,\n 'HOEREN': 781,\n 'loc-IX': 782,\n 'SCHON-WIEDER': 783,\n 'AUSHALTEN': 784,\n 'DRUCKFLAECHE': 785,\n 'FRAGEZEICHEN': 786,\n 'X': 787,\n 'LAUFEN': 788,\n 'ZWEIFEL': 789,\n 'UNTERSCHIED-PLUSPLUS': 790,\n 'BIS-MORGEN': 791,\n 'EIN-BISSCHEN': 792,\n 'OB': 793,\n 'AM-KUESTE': 794,\n 'VERTREIBEN': 795,\n 'BERUHIGEN': 796,\n 'AKTIV': 797,\n 'BREMEN': 798,\n 'MECKLENBURG': 799,\n 'FUEHLEN': 800,\n 'GEHT-SO': 801,\n 'UNSICHER': 802,\n 'SUCHEN': 803,\n 'ALT': 804,\n 'DARUNTER': 805,\n 'NICHTALP-KOENNEN': 806,\n 'VERTEILEN': 807,\n 'AUSSERGEWOEHNLICH': 808,\n 'LEIPZIG': 809,\n 'AUFKOMMEN': 810,\n 'WEIT': 811,\n 'REIF': 812,\n 'NIEDERUNG': 813,\n 'BAUER': 814,\n 'BALD': 815,\n 'BEKOMMEN': 816,\n 'SITUATION': 817,\n 'NICHT-WARTEN': 818,\n 'PUENKTLICH': 819,\n 'WUERZ': 820,\n 'RHEINLAND-PFALZ': 821,\n 'SOWIESO': 822,\n 'FEIER': 823,\n 'EISEN': 824,\n 'TRAUM': 825,\n 'KANN': 826,\n 'DURCHEINANDER': 827,\n 'SCHAU-MAL': 828,\n 'NICHT-EINFLUSS': 829,\n 'ENTWICKELN': 830,\n 'RUHRGEBIET': 831,\n 'loc-ZEIGEN': 832,\n 'loc-AUFLOESEN-PLUSPLUS': 833,\n 'STAU': 834,\n 'VERSCHWINDEN-PLUSPLUS': 835,\n 'RAND': 836,\n 'ORANGE': 837,\n 'ROSTOCK': 838,\n 'DREI-MONATE': 839,\n 'loc-STURM': 840,\n 'S+H': 841,\n 'C+M': 842,\n 'HARZ': 843,\n 'SECHZIG': 844,\n 'HINREICHEND': 845,\n 'AMERIKA': 846,\n 'loc-MINUS-PLUSPLUS': 847,\n 'EINFACH': 848,\n 'BEI-UNS': 849,\n 'ANSCHAUEN': 850,\n 'SPAETESTEN': 851,\n 'loc-REGEN-PLUSPLUS': 852,\n 'FACH': 853,\n 'NICHT-ZU-WARM': 854,\n 'VERWOEHNT': 855,\n 'STUTTGART': 856,\n 'STEIGEN-RUNTER-PLUSPLUS': 857,\n 'HELL': 858,\n 'WIEVIEL': 859,\n 'loc-LAND-PLUSPLUS': 860,\n 'STEHEN': 861,\n 'NICHT-ACHTZEHN': 862,\n 'RAUM': 863,\n 'PAAR-TAG': 864,\n 'INNERHALB': 865,\n 'DUMM': 866,\n 'ERHOEHEN': 867,\n 'NICHT-NOCH-NICHT': 868,\n 'loc-SCHWACH-PLUSPLUS': 869,\n 'AB-PLUSPLUS': 870,\n 'NICHTALP-GIBT': 871,\n 'UNGARN': 872,\n 'NICHT-SPUEREN': 873,\n 'NICHTALP-NICHT': 874,\n 'VERSUCHEN': 875,\n 'NICHT-DEUTSCH': 876,\n 'NICHT-WARM': 877,\n 'KOENNEN-PLUSPLUS': 878,\n 'WUNDERBAR': 879,\n 'HANNOVER': 880,\n 'NICHT-GLEICH': 881,\n 'SPORT': 882,\n 'WEIT-SEHEN': 883,\n 'BRUCKBERG': 884,\n 'HUT': 885,\n 'loc-KARTE': 886,\n 'AUFHEITERN': 887,\n 'SCHULD': 888,\n 'BIS-MITTE': 889,\n 'MAL-AB-ZU': 890,\n 'NICHT-NICHT-NUR': 891,\n 'FEHLT': 892,\n 'DIESMAL': 893,\n 'loc-IRGENDWO': 894,\n 'TAU': 895,\n 'SCHMELZEN': 896,\n 'WASSER-STEIGEN': 897,\n 'LETZTE-WOCHE': 898,\n 'loc-RAUM': 899,\n 'NICHT-BEDEUTEN': 900,\n 'NICHT-IMMER': 901,\n 'SCHAETZEN': 902,\n 'loc-MEER': 903,\n 'LAHM': 904,\n 'MITBEKOMMEN': 905,\n 'HEILIGE': 906,\n 'ALPENRAND': 907,\n 'FREIZEIT': 908,\n 'AM-RAND': 909,\n 'DREHEN': 910,\n 'HERAB': 911,\n 'loc-WOLKE': 912,\n 'ALLGEMEIN': 913,\n 'FUENF-TAGE': 914,\n 'ANDERE-MOEGLICHKEIT': 915,\n 'ABSCHIED': 916,\n 'loc-SONNE-SCHEINEN': 917,\n 'EINSCHRAENKEN': 918,\n 'EIN-WOCHE': 919,\n 'WUNDERSCHOEN': 920,\n 'STERN-PLUSPLUS': 921,\n 'WACHSEN': 922,\n 'KAPUTTGEGANGEN': 923,\n 'MINDESTENS': 924,\n 'ZOOM': 925,\n 'SUED-PLUSPLUS': 926,\n 'ANGST': 927,\n 'NICHTALP-BRAUCHEN': 928,\n 'BERGAB': 929,\n 'loc-GLITZERN': 930,\n 'qu-DU': 931,\n 'qu-MOEGEN': 932,\n 'HINDERNIS': 933,\n 'NICHT-HOEHE': 934,\n 'DIESE-WOCHE': 935,\n 'IM-LAUFE': 936,\n 'WERDEN': 937,\n 'STIMMT': 938,\n 'MITTEGEBIRGE': 939,\n 'NICHT-SCHLECHT': 940,\n 'FUER-UNS': 941,\n 'EINE': 942,\n 'AUTOMATISCH': 943,\n 'BUNT': 944,\n 'PULLOVER': 945,\n 'MITNEHMEN': 946,\n 'KOMPLETT': 947,\n 'EINHUNDERT': 948,\n 'EINLUSS': 949,\n 'STADT': 950,\n 'NICHT-REGEN-PLUSPLUS': 951,\n 'STEIGEN-RUNTER': 952,\n 'qu-STEIGEN': 953,\n 'VORSTELLEN': 954,\n 'BERUF': 955,\n 'DARAUF': 956,\n 'BEGINN': 957,\n 'DENKEN': 958,\n 'MESSEN': 959,\n 'IN-KUERZE': 960,\n 'NICHT-NAJA': 961,\n 'RHEINDLAND': 962,\n 'SCHWACH-PLUSPLUS': 963,\n 'loc-STREIFEN': 964,\n 'CHANCE-PLUSPLUS': 965,\n 'loc-AUFTEILEN': 966,\n 'NICHT-RICHTIG': 967,\n 'ENTFERNT': 968,\n 'MOSKAU': 969,\n 'VORUEBERGEHEND': 970,\n 'NICHT-DIESE-WOCHE': 971,\n 'IN-DIESE-WOCHE': 972,\n 'BEKANNT': 973,\n 'AUFLOCKERUNG-PLUSPLUS': 974,\n 'WASCH': 975,\n 'MASCHINE': 976,\n 'LEBEN': 977,\n 'BEWOELKT-PLUSPLUS': 978,\n 'NORDRHEIN': 979,\n 'ARM': 980,\n 'KANAL': 981,\n 'loc-DRUCKFLAECHE': 982,\n 'loc-AUSWAEHLEN': 983,\n 'NICHTALP-STIMMT': 984,\n 'DOCH-SONST-NOCH': 985,\n 'DAS-WAR-ES': 986,\n 'ZUM-GLUECK': 987,\n 'UMSTELLEN': 988,\n 'AUFHOEREN': 989,\n 'REGEN-AUF-ALPEN': 990,\n 'PFEIL': 991,\n 'MATSCH': 992,\n 'KLEINIGKEIT': 993,\n 'NICHT-HEISS': 994,\n 'BELAESTIGUNG': 995,\n 'KOERPER-PLUSPLUS': 996,\n 'LICHT': 997,\n 'VERSPAETET': 998,\n 'AENDERN': 999,\n ...}"
     },
     "execution_count": 13,
     "metadata": {},
     "output_type": "execute_result"
    }
   ],
   "source": [
    "dictionary"
   ]
  },
  {
   "cell_type": "code",
   "execution_count": null,
   "metadata": {},
   "outputs": [],
   "source": []
  }
 ]
}