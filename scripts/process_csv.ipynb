{
 "nbformat": 4,
 "nbformat_minor": 2,
 "metadata": {
  "language_info": {
   "name": "python",
   "codemirror_mode": {
    "name": "ipython",
    "version": 3
   },
   "version": "3.7.6-final"
  },
  "orig_nbformat": 2,
  "file_extension": ".py",
  "mimetype": "text/x-python",
  "name": "python",
  "npconvert_exporter": "python",
  "pygments_lexer": "ipython3",
  "version": 3,
  "kernelspec": {
   "name": "python37664bit0ecf791bd83b4b4eb3b96ac531fee81e",
   "display_name": "Python 3.7.6 64-bit"
  }
 },
 "cells": [
  {
   "cell_type": "code",
   "execution_count": 5,
   "metadata": {},
   "outputs": [
    {
     "data": {
      "text/html": "<div>\n<style scoped>\n    .dataframe tbody tr th:only-of-type {\n        vertical-align: middle;\n    }\n\n    .dataframe tbody tr th {\n        vertical-align: top;\n    }\n\n    .dataframe thead th {\n        text-align: right;\n    }\n</style>\n<table border=\"1\" class=\"dataframe\">\n  <thead>\n    <tr style=\"text-align: right;\">\n      <th></th>\n      <th>id</th>\n      <th>folder</th>\n      <th>signer</th>\n      <th>annotation</th>\n    </tr>\n  </thead>\n  <tbody>\n    <tr>\n      <th>0</th>\n      <td>01April_2010_Thursday_heute_default-0</td>\n      <td>01April_2010_Thursday_heute_default-0/1/*.png</td>\n      <td>Signer04</td>\n      <td>__ON__ LIEB ZUSCHAUER ABEND WINTER GESTERN loc...</td>\n    </tr>\n    <tr>\n      <th>1</th>\n      <td>01April_2010_Thursday_heute_default-2</td>\n      <td>01April_2010_Thursday_heute_default-2/1/*.png</td>\n      <td>Signer04</td>\n      <td>loc-WEST WARM loc-WEST BLEIBEN KUEHL</td>\n    </tr>\n    <tr>\n      <th>2</th>\n      <td>01April_2010_Thursday_heute_default-3</td>\n      <td>01April_2010_Thursday_heute_default-3/1/*.png</td>\n      <td>Signer04</td>\n      <td>KUEHL KUEHL IN-KOMMEND NACHT MINUS loc-MINUS-P...</td>\n    </tr>\n    <tr>\n      <th>3</th>\n      <td>01April_2010_Thursday_heute_default-4</td>\n      <td>01April_2010_Thursday_heute_default-4/1/*.png</td>\n      <td>Signer04</td>\n      <td>MORGEN TEMPERATUR ACHT BIS DREIZEHN MAXIMAL DR...</td>\n    </tr>\n    <tr>\n      <th>4</th>\n      <td>01April_2010_Thursday_heute_default-6</td>\n      <td>01April_2010_Thursday_heute_default-6/1/*.png</td>\n      <td>Signer04</td>\n      <td>AUCH SAMSTAG WEST FREUNDLICH IX TROCKEN WEST R...</td>\n    </tr>\n  </tbody>\n</table>\n</div>",
      "text/plain": "                                      id  \\\n0  01April_2010_Thursday_heute_default-0   \n1  01April_2010_Thursday_heute_default-2   \n2  01April_2010_Thursday_heute_default-3   \n3  01April_2010_Thursday_heute_default-4   \n4  01April_2010_Thursday_heute_default-6   \n\n                                          folder    signer  \\\n0  01April_2010_Thursday_heute_default-0/1/*.png  Signer04   \n1  01April_2010_Thursday_heute_default-2/1/*.png  Signer04   \n2  01April_2010_Thursday_heute_default-3/1/*.png  Signer04   \n3  01April_2010_Thursday_heute_default-4/1/*.png  Signer04   \n4  01April_2010_Thursday_heute_default-6/1/*.png  Signer04   \n\n                                          annotation  \n0  __ON__ LIEB ZUSCHAUER ABEND WINTER GESTERN loc...  \n1               loc-WEST WARM loc-WEST BLEIBEN KUEHL  \n2  KUEHL KUEHL IN-KOMMEND NACHT MINUS loc-MINUS-P...  \n3  MORGEN TEMPERATUR ACHT BIS DREIZEHN MAXIMAL DR...  \n4  AUCH SAMSTAG WEST FREUNDLICH IX TROCKEN WEST R...  "
     },
     "execution_count": 5,
     "metadata": {},
     "output_type": "execute_result"
    }
   ],
   "source": [
    "import pandas as pd\n",
    "df = pd.read_csv(\"train.corpus.csv\",sep='|')\n",
    "df.head(5)"
   ]
  },
  {
   "cell_type": "code",
   "execution_count": 12,
   "metadata": {},
   "outputs": [],
   "source": [
    "import spacy\n",
    "lang_model = spacy.load('de_core_news_sm')"
   ]
  },
  {
   "cell_type": "code",
   "execution_count": 60,
   "metadata": {},
   "outputs": [],
   "source": [
    "from collections import Counter\n",
    "train = []\n",
    "for i in range(100):\n",
    "    train.append(df.loc[i]['annotation'])\n",
    "\n",
    "# Create a dictionary which maps tokens to indices (train contains all the training sentences)\n",
    "freq_list = Counter()\n",
    "punctuation = ['_','NULL']\n",
    "for sentence in train:\n",
    "    sentence = [tok.text for tok in lang_model.tokenizer(sentence) if not tok.text in punctuation]\n",
    "    freq_list.update(sentence)\n",
    "\n",
    "# 按照词的出现频率建立词典，词频越高索引越靠前\n",
    "freq_list = sorted(freq_list.items(),key=lambda item:item[1],reverse=True)\n",
    "dictionary = {}\n",
    "for i,item in enumerate(freq_list):\n",
    "    dictionary[item[0]] = i\n",
    "\n",
    "# Convert tokens to indices\n",
    "train_set = []\n",
    "for sentence in train:\n",
    "    sentence = [tok.text for tok in lang_model.tokenizer(sentence) if not tok.text in punctuation]\n",
    "    indices = [dictionary[word] for word in sentence if word in dictionary.keys()]\n",
    "    train_set.append(indices)"
   ]
  }
 ]
}