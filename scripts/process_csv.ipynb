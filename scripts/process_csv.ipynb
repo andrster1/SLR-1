{
 "nbformat": 4,
 "nbformat_minor": 2,
 "metadata": {
  "language_info": {
   "name": "python",
   "codemirror_mode": {
    "name": "ipython",
    "version": 3
   },
   "version": "3.7.6-final"
  },
  "orig_nbformat": 2,
  "file_extension": ".py",
  "mimetype": "text/x-python",
  "name": "python",
  "npconvert_exporter": "python",
  "pygments_lexer": "ipython3",
  "version": 3,
  "kernelspec": {
   "name": "python37664bit0ecf791bd83b4b4eb3b96ac531fee81e",
   "display_name": "Python 3.7.6 64-bit"
  }
 },
 "cells": [
  {
   "cell_type": "code",
   "execution_count": 1,
   "metadata": {},
   "outputs": [
    {
     "data": {
      "text/html": "<div>\n<style scoped>\n    .dataframe tbody tr th:only-of-type {\n        vertical-align: middle;\n    }\n\n    .dataframe tbody tr th {\n        vertical-align: top;\n    }\n\n    .dataframe thead th {\n        text-align: right;\n    }\n</style>\n<table border=\"1\" class=\"dataframe\">\n  <thead>\n    <tr style=\"text-align: right;\">\n      <th></th>\n      <th>id</th>\n      <th>folder</th>\n      <th>signer</th>\n      <th>annotation</th>\n    </tr>\n  </thead>\n  <tbody>\n    <tr>\n      <th>0</th>\n      <td>01April_2010_Thursday_heute_default-0</td>\n      <td>01April_2010_Thursday_heute_default-0/1/*.png</td>\n      <td>Signer04</td>\n      <td>__ON__ LIEB ZUSCHAUER ABEND WINTER GESTERN loc...</td>\n    </tr>\n    <tr>\n      <th>1</th>\n      <td>01April_2010_Thursday_heute_default-2</td>\n      <td>01April_2010_Thursday_heute_default-2/1/*.png</td>\n      <td>Signer04</td>\n      <td>loc-WEST WARM loc-WEST BLEIBEN KUEHL</td>\n    </tr>\n    <tr>\n      <th>2</th>\n      <td>01April_2010_Thursday_heute_default-3</td>\n      <td>01April_2010_Thursday_heute_default-3/1/*.png</td>\n      <td>Signer04</td>\n      <td>KUEHL KUEHL IN-KOMMEND NACHT MINUS loc-MINUS-P...</td>\n    </tr>\n    <tr>\n      <th>3</th>\n      <td>01April_2010_Thursday_heute_default-4</td>\n      <td>01April_2010_Thursday_heute_default-4/1/*.png</td>\n      <td>Signer04</td>\n      <td>MORGEN TEMPERATUR ACHT BIS DREIZEHN MAXIMAL DR...</td>\n    </tr>\n    <tr>\n      <th>4</th>\n      <td>01April_2010_Thursday_heute_default-6</td>\n      <td>01April_2010_Thursday_heute_default-6/1/*.png</td>\n      <td>Signer04</td>\n      <td>AUCH SAMSTAG WEST FREUNDLICH IX TROCKEN WEST R...</td>\n    </tr>\n    <tr>\n      <th>...</th>\n      <td>...</td>\n      <td>...</td>\n      <td>...</td>\n      <td>...</td>\n    </tr>\n    <tr>\n      <th>95</th>\n      <td>01June_2010_Tuesday_tagesschau_default-2</td>\n      <td>01June_2010_Tuesday_tagesschau_default-2/1/*.png</td>\n      <td>Signer01</td>\n      <td>__ON__ MITTE EUROPA TIEF KOMMEN KOMMEN REGEN-P...</td>\n    </tr>\n    <tr>\n      <th>96</th>\n      <td>01June_2010_Tuesday_tagesschau_default-4</td>\n      <td>01June_2010_Tuesday_tagesschau_default-4/1/*.png</td>\n      <td>Signer01</td>\n      <td>__ON__ GLEICH ZEIT WEST KOMMEN HOCH KOMMEN __O...</td>\n    </tr>\n    <tr>\n      <th>97</th>\n      <td>01June_2010_Tuesday_tagesschau_default-6</td>\n      <td>01June_2010_Tuesday_tagesschau_default-6/1/*.png</td>\n      <td>Signer01</td>\n      <td>__ON__ TAG loc-SUEDOST REGEN-PLUSPLUS KLAR REG...</td>\n    </tr>\n    <tr>\n      <th>98</th>\n      <td>01June_2010_Tuesday_tagesschau_default-12</td>\n      <td>01June_2010_Tuesday_tagesschau_default-12/1/*.png</td>\n      <td>Signer01</td>\n      <td>__ON__ TAG ZWEIZWANZIG loc-REGION ZEHN ACHT RE...</td>\n    </tr>\n    <tr>\n      <th>99</th>\n      <td>01June_2010_Tuesday_tagesschau_default-14</td>\n      <td>01June_2010_Tuesday_tagesschau_default-14/1/*.png</td>\n      <td>Signer01</td>\n      <td>FREITAG IX VIEL SONNE NUR ALPEN BISSCHEN REGEN...</td>\n    </tr>\n  </tbody>\n</table>\n<p>100 rows × 4 columns</p>\n</div>",
      "text/plain": "                                           id  \\\n0       01April_2010_Thursday_heute_default-0   \n1       01April_2010_Thursday_heute_default-2   \n2       01April_2010_Thursday_heute_default-3   \n3       01April_2010_Thursday_heute_default-4   \n4       01April_2010_Thursday_heute_default-6   \n..                                        ...   \n95   01June_2010_Tuesday_tagesschau_default-2   \n96   01June_2010_Tuesday_tagesschau_default-4   \n97   01June_2010_Tuesday_tagesschau_default-6   \n98  01June_2010_Tuesday_tagesschau_default-12   \n99  01June_2010_Tuesday_tagesschau_default-14   \n\n                                               folder    signer  \\\n0       01April_2010_Thursday_heute_default-0/1/*.png  Signer04   \n1       01April_2010_Thursday_heute_default-2/1/*.png  Signer04   \n2       01April_2010_Thursday_heute_default-3/1/*.png  Signer04   \n3       01April_2010_Thursday_heute_default-4/1/*.png  Signer04   \n4       01April_2010_Thursday_heute_default-6/1/*.png  Signer04   \n..                                                ...       ...   \n95   01June_2010_Tuesday_tagesschau_default-2/1/*.png  Signer01   \n96   01June_2010_Tuesday_tagesschau_default-4/1/*.png  Signer01   \n97   01June_2010_Tuesday_tagesschau_default-6/1/*.png  Signer01   \n98  01June_2010_Tuesday_tagesschau_default-12/1/*.png  Signer01   \n99  01June_2010_Tuesday_tagesschau_default-14/1/*.png  Signer01   \n\n                                           annotation  \n0   __ON__ LIEB ZUSCHAUER ABEND WINTER GESTERN loc...  \n1                loc-WEST WARM loc-WEST BLEIBEN KUEHL  \n2   KUEHL KUEHL IN-KOMMEND NACHT MINUS loc-MINUS-P...  \n3   MORGEN TEMPERATUR ACHT BIS DREIZEHN MAXIMAL DR...  \n4   AUCH SAMSTAG WEST FREUNDLICH IX TROCKEN WEST R...  \n..                                                ...  \n95  __ON__ MITTE EUROPA TIEF KOMMEN KOMMEN REGEN-P...  \n96  __ON__ GLEICH ZEIT WEST KOMMEN HOCH KOMMEN __O...  \n97  __ON__ TAG loc-SUEDOST REGEN-PLUSPLUS KLAR REG...  \n98  __ON__ TAG ZWEIZWANZIG loc-REGION ZEHN ACHT RE...  \n99  FREITAG IX VIEL SONNE NUR ALPEN BISSCHEN REGEN...  \n\n[100 rows x 4 columns]"
     },
     "execution_count": 1,
     "metadata": {},
     "output_type": "execute_result"
    }
   ],
   "source": [
    "import pandas as pd\n",
    "df = pd.read_csv(\"train.corpus.csv\",sep='|')\n",
    "df.head(100)"
   ]
  },
  {
   "cell_type": "code",
   "execution_count": 2,
   "metadata": {},
   "outputs": [],
   "source": [
    "import pandas as pd\n",
    "import spacy\n",
    "from collections import Counter\n",
    "import time"
   ]
  },
  {
   "cell_type": "code",
   "execution_count": 3,
   "metadata": {},
   "outputs": [],
   "source": [
    "def build_dictionary(files):\n",
    "    start = time.time()\n",
    "    lang_model = spacy.load('de')\n",
    "    end = time.time()\n",
    "    print('load lang_model cost %.3f s'%(end-start))\n",
    "    train = []\n",
    "    # 合并annotation中的语料\n",
    "    for file in files:\n",
    "        df = pd.read_csv(file,sep='|')\n",
    "        for i in range(len(df)):\n",
    "            train.append(df.loc[i]['annotation'])\n",
    "\n",
    "    # Create a dictionary which maps tokens to indices (train contains all the training sentences)\n",
    "    freq_list = Counter()\n",
    "    punctuation = ['_','NULL']\n",
    "    for sentence in train:\n",
    "        sentence = [tok.text for tok in lang_model.tokenizer(sentence) if not tok.text in punctuation]\n",
    "        freq_list.update(sentence)\n",
    "\n",
    "    # 按照词的出现频率建立词典，词频越高索引越靠前\n",
    "    freq_list = sorted(freq_list.items(),key=lambda item:item[1],reverse=True)\n",
    "    dictionary = {}\n",
    "    dictionary['<bos>'] = 0\n",
    "    dictionary['<eos>'] = 1\n",
    "    for i,item in enumerate(freq_list):\n",
    "        dictionary[item[0]] = i+2\n",
    "    print(\"Build dictionary successfully!\")\n",
    "    return dictionary"
   ]
  },
  {
   "cell_type": "code",
   "execution_count": 4,
   "metadata": {},
   "outputs": [
    {
     "data": {
      "text/plain": "{'REGEN': 0,\n 'OFF': 1,\n 'ON': 2,\n 'IX': 3,\n 'KOENNEN': 4,\n 'cl-KOMMEN': 5,\n 'EMOTION': 6,\n 'MORGEN': 7,\n 'SONNE': 8,\n 'GEWITTER': 9,\n 'GRAD': 10,\n 'WOLKE': 11,\n 'ABEND': 12,\n 'NACHT': 13,\n 'KOMMEN': 14,\n 'BISSCHEN': 15,\n 'HEUTE': 16,\n 'REGION': 17,\n 'WEHEN': 18,\n 'WARM': 19,\n 'AUCH': 20,\n 'KLAR': 21,\n 'LEFTHAND': 22,\n 'STURM': 23,\n 'TEIL': 24,\n 'BIS': 25,\n 'WEST': 26,\n 'SCHNEE': 27,\n 'SCHAUER': 28,\n 'DANN': 29,\n 'WETTER': 30,\n 'OST': 31,\n 'REGEN-PLUSPLUS': 32,\n 'NORD': 33,\n 'TIEF': 34,\n 'NEBEL': 35,\n 'MINUS': 36,\n 'SAMSTAG': 37,\n 'SONNTAG': 38,\n 'MEHR': 39,\n 'FREITAG': 40,\n 'WIND': 41,\n 'loc-REGION': 42,\n 'KUEHL': 43,\n 'FREUNDLICH': 44,\n 'MONTAG': 45,\n 'SCHWACH': 46,\n 'FLUSS': 47,\n 'GLATT': 48,\n 'HOCH': 49,\n 'VIEL': 50,\n 'TAG': 51,\n 'ZWANZIG': 52,\n 'NORDWESTRAUM': 53,\n 'PU': 54,\n 'IN-KOMMEND': 55,\n 'FUENF': 56,\n 'TROCKEN': 57,\n 'JETZT': 58,\n 'SCHOEN': 59,\n 'ZWEITE': 60,\n 'MAESSIG': 61,\n 'SCHON': 62,\n 'DONNERSTAG': 63,\n 'WECHSELHAFT': 64,\n 'loc-WEST': 65,\n 'KUESTE': 66,\n 'SUED': 67,\n 'WIE-AUSSEHEN': 68,\n 'SUEDWESTRAUM': 69,\n 'ABER': 70,\n 'MILD': 71,\n 'LAND': 72,\n 'FROST': 73,\n 'LIEB': 74,\n 'ZUSCHAUER': 75,\n 'loc-NORD': 76,\n 'BLEIBEN': 77,\n 'ALPEN': 78,\n 'AB': 79,\n 'SECHS': 80,\n 'VIERZEHN': 81,\n 'SOMMER': 82,\n 'ANFANG': 83,\n 'GUT': 84,\n 'BESONDERS': 85,\n 'DREISSIG': 86,\n 'RUHIG': 87,\n 'MACHEN': 88,\n 'MEISTENS': 89,\n 'poss-EUCH': 90,\n 'NACH-HAUSE': 91,\n 'VERBREITEN': 92,\n 'NORDRAUM': 93,\n 'MITTE': 94,\n 'SUEDRAUM': 95,\n 'TEMPERATUR': 96,\n 'DREIZEHN': 97,\n 'MAXIMAL': 98,\n 'loc-SUED': 99,\n 'DREI': 100,\n 'DAZU': 101,\n 'UND': 102,\n 'BERG': 103,\n 'VIER': 104,\n 'ODER': 105,\n 'SUEDOSTRAUM': 106,\n 'WIE': 107,\n 'WIEDER': 108,\n 'BAYERN': 109,\n 'DEUTSCH': 110,\n 'MITTAG': 111,\n 'NUR': 112,\n 'ZEHN': 113,\n 'VORBEI': 114,\n 'LUFT': 115,\n 'AUFLOESEN': 116,\n 'JULI': 117,\n 'loc-SUEDOST': 118,\n 'ACHT': 119,\n 'DIENSTAG': 120,\n 'UEBERWIEGEND': 121,\n 'HIER': 122,\n 'DRUCK': 123,\n 'NORDOSTRAUM': 124,\n 'VERSCHWINDEN': 125,\n 'SEE': 126,\n 'ALLGAEU': 127,\n 'HIMMEL': 128,\n 'ZEIGEN-BILDSCHIRM': 129,\n 'ALLE': 130,\n 'MITTWOCH': 131,\n 'ENORM': 132,\n 'GLEICH': 133,\n 'DEZEMBER': 134,\n 'VOR': 135,\n 'WEITER': 136,\n 'STUNDE': 137,\n 'DOCH': 138,\n 'SPAETER': 139,\n 'WALD': 140,\n 'P': 141,\n 'MEER': 142,\n 'NEU': 143,\n 'OFT': 144,\n 'ZEIT': 145,\n 'KALT': 146,\n 'SIE': 147,\n 'GEFAHR': 148,\n 'NACH': 149,\n 'PLUS': 150,\n 'MOEGLICH': 151,\n 'WEHEN-PLUSPLUS': 152,\n 'NEUNZEHN': 153,\n 'loc-ALPEN': 154,\n 'ZWOELF': 155,\n 'HEISS': 156,\n 'STERN': 157,\n 'SEHEN': 158,\n 'EUROPA': 159,\n 'EINFLUSS': 160,\n 'loc-NORDWEST': 161,\n 'WINTER': 162,\n 'GESTERN': 163,\n 'SCHOTTLAND': 164,\n 'UEBERSCHWEMMUNG': 165,\n 'AMERIKA': 166,\n 'loc-MINUS-PLUSPLUS': 167,\n 'DABEI': 168,\n 'WUENSCHEN': 169,\n 'APRIL': 170,\n 'VORSICHT': 171,\n 'SIEBEN': 172,\n 'loc-LAND': 173,\n 'OSTERN': 174,\n 'WOCHENENDE': 175,\n 'AEHNLICH': 176,\n 'WESTRAUM': 177,\n 'EINFACH': 178,\n 'FRISCH': 179,\n 'ELF': 180,\n 'RUEGEN': 181,\n 'DURCHGEHEND': 182,\n 'BLAU': 183,\n 'MAINZ': 184,\n 'AUS': 185,\n 'FRANKREICH': 186,\n 'BEI-UNS': 187,\n 'AM': 188,\n 'FRUEH': 189,\n 'NIEDERSACHSEN': 190,\n 'S': 191,\n 'VIELLEICHT': 192,\n 'ACH': 193,\n 'NICHT-HABEN': 194,\n 'MUENSTER': 195,\n 'HESSEN': 196,\n 'REST': 197,\n 'UEBERALL': 198,\n 'IHR': 199,\n 'LEUTE': 200,\n 'DAS-IST-ES': 201,\n 'W': 202,\n 'IRLAND': 203,\n 'O': 204,\n 'PFALZ': 205,\n 'NORDWEST': 206,\n 'VORTEIL': 207,\n 'BELGIEN': 208,\n 'WAHRSCHEINLICH': 209,\n 'ZWEI': 210,\n 'STARK': 211,\n 'ORT-PLUSPLUS': 212,\n 'ZWISCHEN': 213,\n 'UEBER': 214,\n 'TRUEB': 215,\n 'DANACH': 216,\n 'AUSSEHEN': 217,\n 'ANSCHAUEN': 218,\n 'Z': 219,\n 'D': 220,\n 'E': 221,\n 'TEXT': 222,\n 'INTERNET': 223,\n 'SCHAUEN': 224,\n 'FEBRUAR': 225,\n 'DARUM': 226,\n 'NICHT-MEHR': 227,\n 'UNWETTER': 228,\n 'WARNUNG': 229,\n 'SPEZIELL': 230,\n 'EIN': 231,\n 'IM-VERLAUF': 232,\n 'WENN': 233,\n 'ANGENEHM': 234,\n 'ZWEIDREISSIG': 235,\n 'DASSELBE': 236,\n 'ICH': 237,\n 'ZEIGEN': 238,\n 'UNGEFAEHR': 239,\n 'LOCKER': 240,\n 'SCHWARZ': 241,\n 'GRUND': 242,\n 'BEDEUTEN': 243,\n 'poss-BEI-UNS': 244,\n 'NORDOST': 245,\n 'LANG': 246,\n 'GEMISCHT': 247,\n 'NOCH': 248,\n 'CHAOS': 249,\n 'SPAETESTEN': 250,\n 'loc-REGEN-PLUSPLUS': 251,\n 'loc-REGION-PLUSPLUS': 252,\n 'VERAENDERN': 253,\n 'loc-SUEDWEST': 254,\n 'BESSER': 255,\n 'ENDLICH': 256,\n 'WIRKLICH': 257,\n 'TSCHUESS': 258,\n 'BIS-JETZT': 259,\n 'HERZ': 260,\n 'ZWEIZWANZIG': 261}"
     },
     "execution_count": 4,
     "metadata": {},
     "output_type": "execute_result"
    }
   ],
   "source": [
    "dictionary"
   ]
  }
 ]
}